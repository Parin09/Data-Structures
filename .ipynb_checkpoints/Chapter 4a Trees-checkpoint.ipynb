{
 "cells": [
  {
   "cell_type": "markdown",
   "metadata": {},
   "source": [
    "# Binary Trees"
   ]
  },
  {
   "cell_type": "code",
   "execution_count": 25,
   "metadata": {},
   "outputs": [],
   "source": [
    "import queue"
   ]
  },
  {
   "cell_type": "code",
   "execution_count": 2,
   "metadata": {},
   "outputs": [],
   "source": [
    "class Node:\n",
    "    def __init__(self,data):\n",
    "        self.data = data\n",
    "        self.right = None\n",
    "        self.left = None"
   ]
  },
  {
   "cell_type": "markdown",
   "metadata": {},
   "source": [
    "Preorder"
   ]
  },
  {
   "cell_type": "code",
   "execution_count": 3,
   "metadata": {},
   "outputs": [],
   "source": [
    "def preorder(root):\n",
    "    #root->left->right\n",
    "    res = []\n",
    "    if root:\n",
    "        res.append(root.data)\n",
    "        res = res + preorder(root.left)\n",
    "        res = res + preorder(root.right)\n",
    "        \n",
    "    return res"
   ]
  },
  {
   "cell_type": "raw",
   "metadata": {},
   "source": [
    "Inorder"
   ]
  },
  {
   "cell_type": "code",
   "execution_count": 4,
   "metadata": {},
   "outputs": [],
   "source": [
    "def inorder(root):\n",
    "    #left->root->right\n",
    "    res = []\n",
    "    if root:\n",
    "        res = res + inorder(root.left)\n",
    "        res.append(root.data)\n",
    "        res = res + inorder(root.right)\n",
    "        \n",
    "    return res"
   ]
  },
  {
   "cell_type": "markdown",
   "metadata": {},
   "source": [
    "Postorder"
   ]
  },
  {
   "cell_type": "code",
   "execution_count": 5,
   "metadata": {},
   "outputs": [],
   "source": [
    "def postorder(root):\n",
    "    #left->right->root\n",
    "    res = []\n",
    "    if root:\n",
    "        res = res + postorder(root.left)\n",
    "        res = res + postorder(root.right)\n",
    "        res.append(root.data)\n",
    "        \n",
    "    return res"
   ]
  },
  {
   "cell_type": "markdown",
   "metadata": {},
   "source": [
    "Height"
   ]
  },
  {
   "cell_type": "code",
   "execution_count": 6,
   "metadata": {},
   "outputs": [],
   "source": [
    "def height(root):\n",
    "    if root is None:\n",
    "        return 0\n",
    "    else:\n",
    "        lheight = height(root.left)\n",
    "        rheight = height(root.right)\n",
    "        \n",
    "        if lheight > rheight:\n",
    "            return lheight+1\n",
    "        else:\n",
    "            return rheight+1"
   ]
  },
  {
   "cell_type": "code",
   "execution_count": 7,
   "metadata": {},
   "outputs": [],
   "source": [
    "def printgivenlevel(root,level):\n",
    "    if root is None:\n",
    "        return \n",
    "    if level == 1:\n",
    "        print(root.data, end =\" \")\n",
    "    elif level > 1:\n",
    "        printgivenlevel(root.left,level-1)\n",
    "        printgivenlevel(root.right,level-1)"
   ]
  },
  {
   "cell_type": "markdown",
   "metadata": {},
   "source": [
    "Levelorder"
   ]
  },
  {
   "cell_type": "code",
   "execution_count": 8,
   "metadata": {},
   "outputs": [],
   "source": [
    "def levelorder(root):\n",
    "    h = height(root)\n",
    "    for i in range(1,h+1):\n",
    "        printgivenlevel(root,i)"
   ]
  },
  {
   "cell_type": "markdown",
   "metadata": {},
   "source": [
    "            1\n",
    "           / \\\n",
    "          2   3\n",
    "         /\\   /\\\n",
    "        4  5 6  7"
   ]
  },
  {
   "cell_type": "code",
   "execution_count": 58,
   "metadata": {},
   "outputs": [],
   "source": [
    "tree = Node(1)\n",
    "tree.left = Node(2)\n",
    "tree.right = Node(3)\n",
    "tree.left.left = Node(4)\n",
    "tree.left.right = Node(5)\n",
    "tree.right.left = Node(6)\n",
    "tree.right.right = Node(7)"
   ]
  },
  {
   "cell_type": "code",
   "execution_count": 59,
   "metadata": {},
   "outputs": [
    {
     "data": {
      "text/plain": [
       "[1, 2, 4, 5, 3, 6, 7]"
      ]
     },
     "execution_count": 59,
     "metadata": {},
     "output_type": "execute_result"
    }
   ],
   "source": [
    "preorder(tree)"
   ]
  },
  {
   "cell_type": "code",
   "execution_count": 60,
   "metadata": {},
   "outputs": [
    {
     "data": {
      "text/plain": [
       "[4, 2, 5, 1, 6, 3, 7]"
      ]
     },
     "execution_count": 60,
     "metadata": {},
     "output_type": "execute_result"
    }
   ],
   "source": [
    "inorder(tree)"
   ]
  },
  {
   "cell_type": "code",
   "execution_count": 61,
   "metadata": {},
   "outputs": [
    {
     "data": {
      "text/plain": [
       "[4, 5, 2, 6, 7, 3, 1]"
      ]
     },
     "execution_count": 61,
     "metadata": {},
     "output_type": "execute_result"
    }
   ],
   "source": [
    "postorder(tree)"
   ]
  },
  {
   "cell_type": "code",
   "execution_count": 35,
   "metadata": {},
   "outputs": [
    {
     "data": {
      "text/plain": [
       "3"
      ]
     },
     "execution_count": 35,
     "metadata": {},
     "output_type": "execute_result"
    }
   ],
   "source": [
    "height(tree)"
   ]
  },
  {
   "cell_type": "code",
   "execution_count": 42,
   "metadata": {},
   "outputs": [
    {
     "name": "stdout",
     "output_type": "stream",
     "text": [
      "1 2 3 4 5 6 7 "
     ]
    }
   ],
   "source": [
    "levelorder(tree)"
   ]
  },
  {
   "cell_type": "markdown",
   "metadata": {},
   "source": [
    "# Binary Search Trees"
   ]
  },
  {
   "cell_type": "markdown",
   "metadata": {},
   "source": [
    "            10\n",
    "           /  \\\n",
    "          7   15\n",
    "         /\\   /\\\n",
    "        4  9 13 18"
   ]
  },
  {
   "cell_type": "code",
   "execution_count": 62,
   "metadata": {},
   "outputs": [],
   "source": [
    "btree = Node(10)\n",
    "btree.left = Node(7)\n",
    "btree.right = Node(15)\n",
    "btree.left.left = Node(4)\n",
    "btree.left.right = Node(9)\n",
    "btree.right.left = Node(13)\n",
    "btree.right.right = Node(18)"
   ]
  },
  {
   "cell_type": "code",
   "execution_count": 63,
   "metadata": {},
   "outputs": [
    {
     "name": "stdout",
     "output_type": "stream",
     "text": [
      "10 7 15 4 9 13 18 "
     ]
    }
   ],
   "source": [
    "levelorder(btree)"
   ]
  },
  {
   "cell_type": "markdown",
   "metadata": {},
   "source": [
    "Searching element in BSTree"
   ]
  },
  {
   "cell_type": "code",
   "execution_count": 74,
   "metadata": {},
   "outputs": [],
   "source": [
    "def search(root,val):\n",
    "    if root == None:\n",
    "        return \"no\"\n",
    "    elif root.data == val:\n",
    "        return \"yes\"\n",
    "    elif val < root.data:\n",
    "        return search(root.left,val)\n",
    "    else:\n",
    "        return search(root.right,val)"
   ]
  },
  {
   "cell_type": "markdown",
   "metadata": {},
   "source": [
    "Inserting element in BSTree"
   ]
  },
  {
   "cell_type": "code",
   "execution_count": 138,
   "metadata": {},
   "outputs": [],
   "source": [
    "def insert(root,val):\n",
    "    newnode = Node(val)\n",
    "    if root is None:\n",
    "        root = newnode\n",
    "    elif val < root.data:\n",
    "        root.left = insertnew(root.left,val)\n",
    "    else:\n",
    "        root.right = insertnew(root.right,val)\n",
    "    return root"
   ]
  },
  {
   "cell_type": "markdown",
   "metadata": {},
   "source": [
    "List to BSTree"
   ]
  },
  {
   "cell_type": "code",
   "execution_count": 140,
   "metadata": {},
   "outputs": [],
   "source": [
    "def list_to_bst(lists,root):\n",
    "    for i in range(len(lists)):\n",
    "        root = insert(root,lists[i])\n",
    "    return root"
   ]
  },
  {
   "cell_type": "markdown",
   "metadata": {},
   "source": [
    "Deleting node in BST"
   ]
  },
  {
   "cell_type": "code",
   "execution_count": 157,
   "metadata": {},
   "outputs": [],
   "source": [
    "def minvaluenode(root):\n",
    "    while(root.left is not None):\n",
    "        root = root.left\n",
    "    return root\n",
    "def deletenode(root,val):\n",
    "    if root is None:\n",
    "        return root\n",
    "    if val == root.data:\n",
    "        if root.left is None:\n",
    "            root = root.right\n",
    "        elif root.right is None:\n",
    "            root = root.left\n",
    "        else:\n",
    "            temp = minvaluenode(root.right)\n",
    "            root.data = temp.data\n",
    "            root.right = deletenode(root.right,root.data)\n",
    "    elif val < root.data:\n",
    "        root.left = deletenode(root.left, val)\n",
    "    else:\n",
    "        root.right = deletenode(root.right, val)\n",
    "        \n",
    "    return root"
   ]
  },
  {
   "cell_type": "markdown",
   "metadata": {},
   "source": [
    "Checking if BTree is BST"
   ]
  },
  {
   "cell_type": "code",
   "execution_count": 205,
   "metadata": {},
   "outputs": [],
   "source": [
    "def isBST(root,l = None, r = None):\n",
    "    if root is None:\n",
    "        return True\n",
    "    elif l is not None and root.data <= l.data:\n",
    "        return False\n",
    "    elif r is not None and root.data >= r.data:\n",
    "        return False\n",
    "    return isBST(root.left,l,root) and isBST(root.right,root,r)"
   ]
  },
  {
   "cell_type": "code",
   "execution_count": 210,
   "metadata": {},
   "outputs": [],
   "source": [
    "def isBST2(root):\n",
    "    res = inorder(root)\n",
    "    temp1 = res[:]\n",
    "    temp1.sort()\n",
    "    temp2 = set(res)\n",
    "    \n",
    "    if temp1 == res and len(res) == len(temp2):\n",
    "        return True\n",
    "    else:\n",
    "        return False"
   ]
  },
  {
   "cell_type": "code",
   "execution_count": 211,
   "metadata": {},
   "outputs": [],
   "source": [
    "bst = None\n",
    "bst = list_to_bst([10,7,15,4,9,13,18],bst)"
   ]
  },
  {
   "cell_type": "code",
   "execution_count": 212,
   "metadata": {},
   "outputs": [
    {
     "data": {
      "text/plain": [
       "[4, 7, 9, 10, 13, 15, 18]"
      ]
     },
     "execution_count": 212,
     "metadata": {},
     "output_type": "execute_result"
    }
   ],
   "source": [
    "inorder(bst)"
   ]
  },
  {
   "cell_type": "code",
   "execution_count": 214,
   "metadata": {},
   "outputs": [
    {
     "data": {
      "text/plain": [
       "True"
      ]
     },
     "execution_count": 214,
     "metadata": {},
     "output_type": "execute_result"
    }
   ],
   "source": [
    "isBST2(bst)"
   ]
  },
  {
   "cell_type": "code",
   "execution_count": null,
   "metadata": {},
   "outputs": [],
   "source": []
  },
  {
   "cell_type": "code",
   "execution_count": 162,
   "metadata": {},
   "outputs": [
    {
     "data": {
      "text/plain": [
       "[4, 7, 9, 13, 15, 18]"
      ]
     },
     "execution_count": 162,
     "metadata": {},
     "output_type": "execute_result"
    }
   ],
   "source": [
    "bst = deletenode(bst,11)\n",
    "inorder(bst)"
   ]
  },
  {
   "cell_type": "code",
   "execution_count": null,
   "metadata": {},
   "outputs": [],
   "source": []
  },
  {
   "cell_type": "code",
   "execution_count": 172,
   "metadata": {},
   "outputs": [
    {
     "name": "stdout",
     "output_type": "stream",
     "text": [
      "36 35 36 33 30 26 21 15 8 "
     ]
    }
   ],
   "source": [
    "lists = [36, 36, 35, 33, 30, 26, 21, 15, 8]\n",
    "lctree = None\n",
    "lctree = list_to_bst(lists,lctree)\n",
    "levelorder(lctree)"
   ]
  },
  {
   "cell_type": "code",
   "execution_count": null,
   "metadata": {},
   "outputs": [],
   "source": []
  },
  {
   "cell_type": "markdown",
   "metadata": {},
   "source": [
    "## Leetcode"
   ]
  },
  {
   "cell_type": "markdown",
   "metadata": {},
   "source": [
    "1038. [Binary Search Tree to Greater Sum Tree](https://leetcode.com/problems/binary-search-tree-to-greater-sum-tree/)<br>\n",
    "Given the root of a binary search tree with distinct values, modify it so that every node has a new value equal to the sum of the values of the original tree that are greater than or equal to node.val.<"
   ]
  },
  {
   "cell_type": "code",
   "execution_count": 174,
   "metadata": {},
   "outputs": [],
   "source": [
    "def traversetree(self,root,dict1):\n",
    "    if root:\n",
    "        traversetree(root.left,dict1)\n",
    "        root.data = dict1[root.data]\n",
    "        traversetree(root.right,dict1)\n",
    "\n",
    "def bstToGst(self, root):\n",
    "    dict1 = {}\n",
    "    oglist = inorder(root)\n",
    "    x = len(oglist)\n",
    "    for i in range(x):\n",
    "        sum = 0\n",
    "        for j in range((x-i)):\n",
    "            sum += oglist[j-(x-i)]\n",
    "            dict1[oglist[i]] = sum\n",
    "\n",
    "    return traversetree(root,dict1)"
   ]
  },
  {
   "cell_type": "markdown",
   "metadata": {},
   "source": [
    "1373. [Maximum Sum BST in Binary Tree](https://leetcode.com/problems/maximum-sum-bst-in-binary-tree/)<br>\n",
    "Given a binary tree root, the task is to return the maximum sum of all keys of any sub-tree which is also a Binary Search Tree (BST)."
   ]
  },
  {
   "cell_type": "code",
   "execution_count": 223,
   "metadata": {},
   "outputs": [],
   "source": [
    "#timeout for large inputs Else works fine\n",
    "def sumtree(root):\n",
    "    res = []\n",
    "    if root:\n",
    "        res = res + sumtree(root.left)\n",
    "        res.append(root.data)\n",
    "        res = res + sumtree(root.right)\n",
    "    return res\n",
    "\n",
    "def isBST(root):\n",
    "    testlist1 = sumtree(root)\n",
    "    testlist2 = testlist1[:]\n",
    "    testlist2.sort()\n",
    "    testlist3 = set(testlist1)\n",
    "    if testlist1 == testlist2 and len(testlist1) == len(testlist3):\n",
    "        return True\n",
    "    else:\n",
    "        return False\n",
    "\n",
    "def finans(root):\n",
    "    sum = 0\n",
    "    res = sumtree(root)\n",
    "    for i in range(len(res)):\n",
    "        sum += res[i]\n",
    "\n",
    "    flag = isBST(root)\n",
    "    if flag:\n",
    "        return sum\n",
    "\n",
    "def traverse(root):\n",
    "    temp = []\n",
    "    if root:\n",
    "        temp = temp + traverse(root.left)\n",
    "        temp.append(finans(root))\n",
    "        temp = temp + traverse(root.right)\n",
    "    return temp\n",
    "\n",
    "def maxSumBST(root):\n",
    "    ans = traverse(root)\n",
    "    ans = [i for i in ans if i]\n",
    "\n",
    "    if max(ans) < 0:\n",
    "        return 0\n",
    "    else:\n",
    "        return max(ans)"
   ]
  },
  {
   "cell_type": "code",
   "execution_count": 225,
   "metadata": {},
   "outputs": [
    {
     "data": {
      "text/plain": [
       "20"
      ]
     },
     "execution_count": 225,
     "metadata": {},
     "output_type": "execute_result"
    }
   ],
   "source": [
    "lc1 = Node(1)\n",
    "lc1.left = Node(4)\n",
    "lc1.left.left = Node(2)\n",
    "lc1.left.right = Node(4)\n",
    "lc1.right = Node(3)\n",
    "lc1.right.left = Node(2)\n",
    "lc1.right.right = Node(5)\n",
    "lc1.right.right.left = Node(4)\n",
    "lc1.right.right.right = Node(6)\n",
    "maxSumBST(lc1)"
   ]
  },
  {
   "cell_type": "code",
   "execution_count": null,
   "metadata": {},
   "outputs": [],
   "source": []
  },
  {
   "cell_type": "code",
   "execution_count": null,
   "metadata": {},
   "outputs": [],
   "source": []
  },
  {
   "cell_type": "code",
   "execution_count": null,
   "metadata": {},
   "outputs": [],
   "source": []
  }
 ],
 "metadata": {
  "kernelspec": {
   "display_name": "Python 3",
   "language": "python",
   "name": "python3"
  },
  "language_info": {
   "codemirror_mode": {
    "name": "ipython",
    "version": 3
   },
   "file_extension": ".py",
   "mimetype": "text/x-python",
   "name": "python",
   "nbconvert_exporter": "python",
   "pygments_lexer": "ipython3",
   "version": "3.7.4"
  }
 },
 "nbformat": 4,
 "nbformat_minor": 2
}
