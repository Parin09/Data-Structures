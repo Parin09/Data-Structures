{
 "cells": [
  {
   "cell_type": "markdown",
   "metadata": {},
   "source": [
    "# Chapter 2: Linked Lists"
   ]
  },
  {
   "cell_type": "markdown",
   "metadata": {},
   "source": [
    "Basic operations on Linked Lists"
   ]
  },
  {
   "cell_type": "markdown",
   "metadata": {},
   "source": [
    "## Singly Linked Lists"
   ]
  },
  {
   "cell_type": "code",
   "execution_count": 1,
   "metadata": {},
   "outputs": [],
   "source": [
    "class Node:\n",
    "    def __init__(self,data):\n",
    "        self.data = data\n",
    "        self.next = None\n",
    "        \n",
    "class LinkedList:\n",
    "    def __init__(self):\n",
    "        self.head = None\n",
    "        "
   ]
  },
  {
   "cell_type": "markdown",
   "metadata": {},
   "source": [
    "Traversal"
   ]
  },
  {
   "cell_type": "code",
   "execution_count": 2,
   "metadata": {},
   "outputs": [],
   "source": [
    "def traversal(head):\n",
    "    temp = head\n",
    "    while temp:\n",
    "        print(temp.data)\n",
    "        temp = temp.next"
   ]
  },
  {
   "cell_type": "markdown",
   "metadata": {},
   "source": [
    "Searching"
   ]
  },
  {
   "cell_type": "code",
   "execution_count": 3,
   "metadata": {},
   "outputs": [],
   "source": [
    "def search(head,data):\n",
    "    temp = head\n",
    "    flag = 0\n",
    "    while temp:\n",
    "        if(temp.data == data):\n",
    "            flag = 1\n",
    "            print(\"Exists\")\n",
    "            break\n",
    "        temp = temp.next\n",
    "    if(flag == 0):\n",
    "        print(\"Does not Exist\")"
   ]
  },
  {
   "cell_type": "markdown",
   "metadata": {},
   "source": [
    "Insert Value at Beggining"
   ]
  },
  {
   "cell_type": "code",
   "execution_count": 4,
   "metadata": {},
   "outputs": [],
   "source": [
    "def insert_begg(head,data):\n",
    "    begg = Node(data)\n",
    "    begg.next = head\n",
    "    return begg\n"
   ]
  },
  {
   "cell_type": "markdown",
   "metadata": {},
   "source": [
    "Insert Value at End"
   ]
  },
  {
   "cell_type": "code",
   "execution_count": 5,
   "metadata": {},
   "outputs": [],
   "source": [
    "def insert_end(head,data):\n",
    "    end = Node(data)\n",
    "    temp = head\n",
    "    while temp.next:\n",
    "        temp = temp.next\n",
    "    temp.next = end\n",
    "    return head"
   ]
  },
  {
   "cell_type": "markdown",
   "metadata": {},
   "source": [
    "Insert Value Before Node"
   ]
  },
  {
   "cell_type": "code",
   "execution_count": 6,
   "metadata": {},
   "outputs": [],
   "source": [
    "def insert_before(head,node_b,data):\n",
    "    bfr = Node(data)\n",
    "    \n",
    "    prev = head\n",
    "    nextt = head.next\n",
    "    \n",
    "    while(nextt.data != node_b and nextt):\n",
    "        prev = prev.next\n",
    "        nextt = nextt.next\n",
    "        \n",
    "    prev.next = bfr\n",
    "    bfr.next = nextt\n",
    "    \n",
    "    return head"
   ]
  },
  {
   "cell_type": "markdown",
   "metadata": {},
   "source": [
    "Insert Value After Node"
   ]
  },
  {
   "cell_type": "code",
   "execution_count": 7,
   "metadata": {},
   "outputs": [],
   "source": [
    "def insert_after(head,node_a,data):\n",
    "    aftr = Node(data)\n",
    "    \n",
    "    prev = head\n",
    "    nextt = head.next\n",
    "    \n",
    "    while(prev.data != node_a and nextt):\n",
    "        prev = prev.next\n",
    "        nextt = nextt.next\n",
    "        \n",
    "    prev.next = aftr\n",
    "    aftr.next = nextt\n",
    "    \n",
    "    return head"
   ]
  },
  {
   "cell_type": "markdown",
   "metadata": {},
   "source": [
    "Deleting Node"
   ]
  },
  {
   "cell_type": "code",
   "execution_count": 8,
   "metadata": {},
   "outputs": [],
   "source": [
    "def delete_node(head,val):\n",
    "    prev = head\n",
    "    nextt = prev.next\n",
    "\n",
    "    #start node\n",
    "    if(prev.data == val):\n",
    "        head = nextt\n",
    "        return head\n",
    "    \n",
    "    while(nextt):\n",
    "        if(nextt.data == val):\n",
    "            break\n",
    "        prev = prev.next\n",
    "        nextt = nextt.next\n",
    "    \n",
    "    prev.next = nextt.next\n",
    "    return head      "
   ]
  },
  {
   "cell_type": "markdown",
   "metadata": {},
   "source": [
    "Reversing Linked List"
   ]
  },
  {
   "cell_type": "code",
   "execution_count": 9,
   "metadata": {},
   "outputs": [],
   "source": [
    "def reverse_list(head):\n",
    "    prev = nxt = None\n",
    "    curr = head\n",
    "    \n",
    "    while(curr):\n",
    "        nxt = curr.next\n",
    "        curr.next = prev\n",
    "        \n",
    "        prev = curr\n",
    "        curr = nxt\n",
    "    \n",
    "    return prev"
   ]
  },
  {
   "cell_type": "markdown",
   "metadata": {},
   "source": [
    "List to Linked List"
   ]
  },
  {
   "cell_type": "code",
   "execution_count": 10,
   "metadata": {},
   "outputs": [],
   "source": [
    "def list_to_ll(nums):\n",
    "    llist = LinkedList()\n",
    "    llist.head = Node(nums[0])\n",
    "    \n",
    "    for i in range(len(nums)-1):\n",
    "        llist.head = insert_end(llist.head,nums[i+1])\n",
    "        \n",
    "    return llist.head"
   ]
  },
  {
   "cell_type": "code",
   "execution_count": 87,
   "metadata": {},
   "outputs": [],
   "source": [
    "llist = LinkedList()\n",
    "llist.head = Node(1)\n",
    "second = Node(2)\n",
    "third = Node(3)\n",
    "    \n",
    "llist.head.next = second\n",
    "second.next = third"
   ]
  },
  {
   "cell_type": "code",
   "execution_count": 116,
   "metadata": {},
   "outputs": [],
   "source": [
    "# def insert_list(head,num):\n",
    "#     for i in range(len(num)):\n",
    "#         head = insert_end(head,num[i])\n",
    "        \n",
    "#     return head"
   ]
  },
  {
   "cell_type": "code",
   "execution_count": null,
   "metadata": {},
   "outputs": [],
   "source": []
  },
  {
   "cell_type": "markdown",
   "metadata": {},
   "source": [
    "## Cracking the Coding Interview Problems"
   ]
  },
  {
   "cell_type": "markdown",
   "metadata": {},
   "source": [
    "1. Write code to remove duplicates from an unsorted linked list                                    \n",
    "FOLLOW UP                                                                                          \n",
    "How would you solve this problem if a temporary buffer is not allowed? "
   ]
  },
  {
   "cell_type": "code",
   "execution_count": 143,
   "metadata": {},
   "outputs": [],
   "source": [
    "def sol1(head):\n",
    "    dict1 = {}\n",
    "    temp = head\n",
    "    \n",
    "    while(temp.next):\n",
    "        if(temp.data not in dict1):\n",
    "            dict1[temp.data] = 1\n",
    "        else:\n",
    "            dict1[temp.data] += 1\n",
    "        temp = temp.next\n",
    "    \n",
    "#     print(dict1)\n",
    "    temp = head\n",
    "    while(temp.next):\n",
    "        if(dict1[temp.data] != 1):\n",
    "            head = delete_node(head,temp.data)\n",
    "            dict1[temp.data] -= 1\n",
    "        temp = temp.next\n",
    "#     print(dict1)        \n",
    "    return head"
   ]
  },
  {
   "cell_type": "markdown",
   "metadata": {},
   "source": [
    "Algorithm:\n",
    "    1. curr iterates over the entire list\n",
    "    2. runner starts from beginning to find duplicate and delete if found"
   ]
  },
  {
   "cell_type": "code",
   "execution_count": 145,
   "metadata": {},
   "outputs": [],
   "source": [
    "def sol1a(head):\n",
    "    prev = head\n",
    "    curr = prev.next\n",
    "    \n",
    "    while curr:\n",
    "        runner = head\n",
    "        while(runner != curr):\n",
    "            if(runner.data == curr.data):\n",
    "                head = delete_node(head,runner.data)\n",
    "                break\n",
    "            runner = runner.next\n",
    "        if(runner == curr):\n",
    "            prev = curr\n",
    "            curr = curr.next\n",
    "    \n",
    "    return head"
   ]
  },
  {
   "cell_type": "code",
   "execution_count": 149,
   "metadata": {},
   "outputs": [],
   "source": [
    "llist1 = list_to_ll([1,2,2,3,4,5])\n",
    "traversal(sol1(llist1))"
   ]
  },
  {
   "cell_type": "markdown",
   "metadata": {},
   "source": [
    "2. Implement an algorithm to find the nth to last element of a singly linked list "
   ]
  },
  {
   "cell_type": "markdown",
   "metadata": {},
   "source": [
    "Algorithm:\n",
    "    1. take two pointers p1 p2 both pointing to head\n",
    "    2. increment p2 by n-1 places\n",
    "    3. check if p2.next is None\n",
    "        if yes print p2.data\n",
    "        else increment p1 and p2"
   ]
  },
  {
   "cell_type": "code",
   "execution_count": 150,
   "metadata": {},
   "outputs": [],
   "source": [
    "def sol2(head,n):\n",
    "    p1 = head\n",
    "    p2 = head\n",
    "    \n",
    "    for i in range(n-1):\n",
    "        p2 = p2.next\n",
    "        \n",
    "    while(p2.next):\n",
    "        p1 = p1.next\n",
    "        p2 = p2.next\n",
    "    \n",
    "    print(p1.data)"
   ]
  },
  {
   "cell_type": "code",
   "execution_count": 154,
   "metadata": {},
   "outputs": [
    {
     "name": "stdout",
     "output_type": "stream",
     "text": [
      "3\n"
     ]
    }
   ],
   "source": [
    "llist2 = list_to_ll([1,2,3,4,5])\n",
    "sol2(llist2,3)"
   ]
  },
  {
   "cell_type": "markdown",
   "metadata": {},
   "source": [
    "3. Implement an algorithm to delete a node in the middle of a single linked list, given only access to that node<br>EXAMPLE Input: the node ‘c’ from the linked list a->b->c->d->e<br>Result: new linked list looks like a->b->d->e"
   ]
  },
  {
   "cell_type": "code",
   "execution_count": 155,
   "metadata": {},
   "outputs": [],
   "source": [
    "def sol3(head,val):\n",
    "    temp = head\n",
    "    if(temp.data == val):\n",
    "        head = temp.next\n",
    "        return head\n",
    "    prev = head\n",
    "    temp = prev.next\n",
    "    while(temp):\n",
    "        if(temp.data == val):\n",
    "            prev.next = temp.next\n",
    "            return head\n",
    "        prev = prev.next\n",
    "        temp = prev.next\n",
    "    "
   ]
  },
  {
   "cell_type": "code",
   "execution_count": 156,
   "metadata": {},
   "outputs": [
    {
     "name": "stdout",
     "output_type": "stream",
     "text": [
      "a\n",
      "b\n",
      "d\n",
      "e\n"
     ]
    }
   ],
   "source": [
    "llist3 = list_to_ll(['a','b','c','d','e'])\n",
    "traversal(sol3(llist3,'c'))"
   ]
  },
  {
   "cell_type": "markdown",
   "metadata": {},
   "source": [
    "4. You have two numbers represented by a linked list, where each node contains a single digit   The digits are stored in reverse order, such that the 1’s digit is at the head of the list   Write a function that adds the two numbers and returns the sum as a linked list<br>EXAMPLE Input: (3 -> 1 -> 5), (5 -> 9 -> 2)<br>Output: 8 -> 0 -> 8"
   ]
  },
  {
   "cell_type": "code",
   "execution_count": 107,
   "metadata": {},
   "outputs": [],
   "source": [
    "#noob\n",
    "def sol4a(head1,head2):\n",
    "    head1 = reverse_list(head1)\n",
    "    head2 = reverse_list(head2)\n",
    "    \n",
    "    str1 = \"\"\n",
    "    str2 = \"\"\n",
    "    while(head1):\n",
    "        str1 += str(head1.data)\n",
    "        head1 = head1.next\n",
    "        \n",
    "    while(head2):\n",
    "        str2 += str(head2.data)\n",
    "        head2 = head2.next\n",
    "        \n",
    "    result = str(int(str1)+int(str2))\n",
    "    \n",
    "    nums = []\n",
    "    for i in range(len(result)):\n",
    "        nums.append(int(result[i]))\n",
    "        \n",
    "    return list_to_ll(nums)"
   ]
  },
  {
   "cell_type": "code",
   "execution_count": 109,
   "metadata": {},
   "outputs": [
    {
     "name": "stdout",
     "output_type": "stream",
     "text": [
      "7\n",
      "8\n",
      "0\n",
      "7\n"
     ]
    }
   ],
   "source": [
    "llist4a = list_to_ll([3,4,2,7])\n",
    "llist4b = list_to_ll([4,6,5])\n",
    "traversal(sol4a(llist4a,llist4b))"
   ]
  },
  {
   "cell_type": "code",
   "execution_count": 110,
   "metadata": {},
   "outputs": [],
   "source": [
    "def sol4(head1,head2):\n",
    "    dummy = Node(0)\n",
    "    p = head1\n",
    "    q = head2\n",
    "    curr = dummy\n",
    "    \n",
    "    carry = 0\n",
    "    while(p or q):\n",
    "        if(p is not None): x = p.data\n",
    "        else: x = 0\n",
    "                \n",
    "        if(q is not None): y = q.data\n",
    "        else: y = 0\n",
    "\n",
    "        sum = x+y+carry\n",
    "        carry = sum//10\n",
    "        curr.next = Node(sum%10)\n",
    "        curr = curr.next\n",
    "        if(p): p = p.next\n",
    "        if(q): q = q.next\n",
    "\n",
    "    if(carry > 0):\n",
    "        curr.next = Node(carry)\n",
    "    return(dummy.next)"
   ]
  },
  {
   "cell_type": "code",
   "execution_count": 111,
   "metadata": {},
   "outputs": [
    {
     "name": "stdout",
     "output_type": "stream",
     "text": [
      "7\n",
      "0\n",
      "8\n",
      "7\n"
     ]
    }
   ],
   "source": [
    "llist4a = list_to_ll([3,4,2,7])\n",
    "llist4b = list_to_ll([4,6,5])\n",
    "traversal(sol4(llist4a,llist4b))"
   ]
  },
  {
   "cell_type": "markdown",
   "metadata": {},
   "source": [
    "5. Given a circular linked list, implement an algorithm which returns node at the beginning of the loop<br>DEFINITION<br>Circular linked list: A (corrupt) linked list in which a node’s next pointer points to an earlier node, so as to make a loop in the linked list<br>EXAMPLE<br>Input: A -> B -> C -> D -> E -> C [the same C as earlier]<br>Output: C"
   ]
  },
  {
   "cell_type": "markdown",
   "metadata": {},
   "source": [
    "<img src=\"sol2.5.png\">"
   ]
  },
  {
   "cell_type": "code",
   "execution_count": 246,
   "metadata": {},
   "outputs": [],
   "source": [
    "def sol5(head):\n",
    "    n1 = n2 = head\n",
    "    # Find meeting point\n",
    "    while(n2.next is not None):\n",
    "        n1 = n1.next\n",
    "        n2 = n2.next.next\n",
    "        if(n1 == n2):\n",
    "            break\n",
    "            \n",
    "    # Error-check: if no meeting point hence no loop        \n",
    "    if(n2.next is None):\n",
    "        return None\n",
    "    \n",
    "    n1 = head\n",
    "    while(n1 != n2):\n",
    "        n1 = n1.next\n",
    "        n2 = n2.next\n",
    "        \n",
    "    return n2.data"
   ]
  },
  {
   "cell_type": "code",
   "execution_count": 187,
   "metadata": {},
   "outputs": [],
   "source": [
    "def sol5b(head):\n",
    "    dict1 = {}\n",
    "    temp = head\n",
    "    flag = True\n",
    "    while(temp):\n",
    "        if(temp in dict1):\n",
    "            flag = False\n",
    "            print(temp.data)\n",
    "            break\n",
    "        else:\n",
    "            dict1[temp] = 1\n",
    "        temp = temp.next\n",
    "    \n",
    "    if(flag):\n",
    "        print(\"No Loop\")"
   ]
  },
  {
   "cell_type": "code",
   "execution_count": 189,
   "metadata": {},
   "outputs": [
    {
     "name": "stdout",
     "output_type": "stream",
     "text": [
      "c\n"
     ]
    }
   ],
   "source": [
    "a = Node('a')\n",
    "b = Node('b')\n",
    "c = Node('c')\n",
    "d = Node('d')\n",
    "e = Node('e')\n",
    "\n",
    "a.next = b\n",
    "b.next = c\n",
    "c.next = d\n",
    "d.next = e\n",
    "e.next = c\n",
    "\n",
    "# print(sol5(a))\n",
    "sol5b(a)"
   ]
  },
  {
   "cell_type": "markdown",
   "metadata": {},
   "source": [
    "## Leetcode"
   ]
  },
  {
   "cell_type": "markdown",
   "metadata": {},
   "source": [
    "19. [Remove Nth Node From End of List](https://leetcode.com/problems/remove-nth-node-from-end-of-list)<br><br>\n",
    "Given linked list: 1->2->3->4->5, and n = 2.<br>\n",
    "After removing the second node from the end, the linked list becomes 1->2->3->5."
   ]
  },
  {
   "cell_type": "code",
   "execution_count": 294,
   "metadata": {},
   "outputs": [],
   "source": [
    "def sol19(head,n):\n",
    "    prev = None\n",
    "    p1 = p2 = head\n",
    "    \n",
    "    for i in range(n-1):\n",
    "        p2 = p2.next\n",
    "        \n",
    "    while(p2.next):\n",
    "        prev = p1\n",
    "        p1 = p1.next\n",
    "        p2 = p2.next\n",
    "    \n",
    "    if(prev == None):\n",
    "        head = p1.next\n",
    "    else:\n",
    "        prev.next = p1.next\n",
    "    return head"
   ]
  },
  {
   "cell_type": "code",
   "execution_count": 297,
   "metadata": {},
   "outputs": [
    {
     "name": "stdout",
     "output_type": "stream",
     "text": [
      "4\n",
      "5\n"
     ]
    }
   ],
   "source": [
    "lc1 = list_to_ll([4,5,4])\n",
    "traversal(sol19(lc1,1))"
   ]
  },
  {
   "cell_type": "markdown",
   "metadata": {},
   "source": [
    "83. [Remove Duplicates from Sorted List](https://leetcode.com/problems/remove-duplicates-from-sorted-list)<br>\n",
    "Given a sorted linked list, delete all duplicates such that each element appear only once.<br>Input: 1->1->2->3->3<br>\n",
    "Output: 1->2->3"
   ]
  },
  {
   "cell_type": "code",
   "execution_count": 298,
   "metadata": {},
   "outputs": [],
   "source": [
    "def sol83(head):\n",
    "    dict1 = {}\n",
    "    temp = head\n",
    "    while(temp):\n",
    "        if(temp.data not in dict1):\n",
    "            dict1[temp.data] = 1\n",
    "        else:\n",
    "            dict1[temp.data] += 1\n",
    "        temp = temp.next\n",
    "\n",
    "    temp = head    \n",
    "    while(temp):\n",
    "        if(dict1[temp.data] != 1):\n",
    "            head = delete_node(head,temp.data)\n",
    "            dict1[temp.data] -= 1\n",
    "        temp = temp.next\n",
    "    # print(dict1)\n",
    "    return head"
   ]
  },
  {
   "cell_type": "code",
   "execution_count": 299,
   "metadata": {},
   "outputs": [
    {
     "name": "stdout",
     "output_type": "stream",
     "text": [
      "1\n",
      "2\n"
     ]
    }
   ],
   "source": [
    "lc2 = list_to_ll([1,1,2])\n",
    "traversal(sol83(lc2))"
   ]
  },
  {
   "cell_type": "markdown",
   "metadata": {},
   "source": [
    "82. [Remove Duplicates from Sorted List II](https://leetcode.com/problems/remove-duplicates-from-sorted-list-ii)<br>Given a sorted linked list, delete all nodes that have duplicate numbers, leaving only distinct numbers from the original list.<br>\n",
    "<br>Input: 1->2->3->3->4->4->5\n",
    "<br>Output: 1->2->5"
   ]
  },
  {
   "cell_type": "code",
   "execution_count": 330,
   "metadata": {},
   "outputs": [],
   "source": [
    "def sol82(head):\n",
    "    dict1 = {}\n",
    "    temp = head\n",
    "    while(temp):\n",
    "        if(temp.data not in dict1):\n",
    "            dict1[temp.data] = 1\n",
    "        else:\n",
    "            dict1[temp.data] += 1\n",
    "        temp = temp.next\n",
    "\n",
    "    temp = head    \n",
    "    while(temp):\n",
    "        if(dict1[temp.data] > 1):\n",
    "            head = delete_node(head,temp.data)\n",
    "        temp = temp.next\n",
    "    return head"
   ]
  },
  {
   "cell_type": "code",
   "execution_count": 331,
   "metadata": {},
   "outputs": [
    {
     "name": "stdout",
     "output_type": "stream",
     "text": [
      "1\n",
      "2\n",
      "5\n"
     ]
    }
   ],
   "source": [
    "lc3 = list_to_ll([1,2,3,3,4,4,5])\n",
    "traversal(sol82(lc3))"
   ]
  },
  {
   "cell_type": "markdown",
   "metadata": {},
   "source": [
    "61. [Rotate List](https://leetcode.com/problems/rotate-list)<br>\n",
    "Given a linked list, rotate the list to the right by k places, where k is non-negative.<br><br>\n",
    "Input: 1->2->3->4->5->NULL, k = 2<br>\n",
    "Output: 4->5->1->2->3->NULL<br>\n",
    "Explanation:<br>\n",
    "rotate 1 steps to the right: 5->1->2->3->4->NULL<br>\n",
    "rotate 2 steps to the right: 4->5->1->2->3->NULL<br>"
   ]
  },
  {
   "cell_type": "code",
   "execution_count": 68,
   "metadata": {},
   "outputs": [],
   "source": [
    "class sol61:\n",
    "    def delete(self,head):\n",
    "        temp = head\n",
    "        while(temp.next.next):\n",
    "            temp = temp.next\n",
    "        \n",
    "        start = temp.next.data\n",
    "        temp.next = None\n",
    "        \n",
    "        newnode = Node(start)\n",
    "        newnode.next = head\n",
    "        return newnode\n",
    "    \n",
    "    def rotate(self,head,n):\n",
    "        if(head is None or head.next is None):\n",
    "            return head\n",
    "        \n",
    "        temp = head\n",
    "        count = 0\n",
    "\n",
    "        while(temp):\n",
    "            temp = temp.next\n",
    "            count += 1\n",
    "        \n",
    "        \n",
    "        else:\n",
    "            for i in range(n%count):\n",
    "                head = self.delete(head)    \n",
    "            return(head)"
   ]
  },
  {
   "cell_type": "code",
   "execution_count": 70,
   "metadata": {},
   "outputs": [
    {
     "name": "stdout",
     "output_type": "stream",
     "text": [
      "1\n",
      "2\n",
      "3\n",
      "4\n",
      "5\n"
     ]
    }
   ],
   "source": [
    "test = sol61()\n",
    "lc4 = list_to_ll([1,2,3,4,5])\n",
    "traversal(test.rotate(lc4,100))"
   ]
  },
  {
   "cell_type": "markdown",
   "metadata": {},
   "source": [
    "86. [Partition List](https://leetcode.com/problems/partition-list/)<br>\n",
    "Given a linked list and a value x, partition it such that all nodes less than x come before nodes greater than or equal to x.<br>\n",
    "You should preserve the original relative order of the nodes in each of the two partitions.<br>\n",
    "Example:<br>\n",
    "Input: head = 1->4->3->2->5->2, x = 3<br>\n",
    "Output: 1->2->2->4->3->5<br>\n"
   ]
  },
  {
   "cell_type": "code",
   "execution_count": 78,
   "metadata": {},
   "outputs": [],
   "source": [
    "def sol86(head,x):\n",
    "    temp = head\n",
    "    bfr = bfr_h = Node(0)\n",
    "    aftr = aftr_h = Node(0)\n",
    "    \n",
    "    while(temp):\n",
    "        if(temp.data < x):\n",
    "            bfr.next = temp\n",
    "            bfr = bfr.next\n",
    "        else:\n",
    "            aftr.next = temp\n",
    "            aftr = aftr.next\n",
    "            \n",
    "        temp = temp.next\n",
    "        \n",
    "    aftr.next = None\n",
    "    bfr.next = aftr_h.next\n",
    "    return bfr_h.next"
   ]
  },
  {
   "cell_type": "code",
   "execution_count": 79,
   "metadata": {},
   "outputs": [
    {
     "name": "stdout",
     "output_type": "stream",
     "text": [
      "1\n",
      "2\n",
      "2\n",
      "4\n",
      "3\n",
      "5\n"
     ]
    }
   ],
   "source": [
    "lc5 = list_to_ll([1,4,3,2,5,2])\n",
    "traversal(sol86(lc5,3))"
   ]
  },
  {
   "cell_type": "markdown",
   "metadata": {},
   "source": [
    "92. [Reverse Linked List II](https://leetcode.com/problems/reverse-linked-list-ii/)<br>\n",
    "    Reverse a linked list from position m to n. Do it in one-pass.<br>\n",
    "    Note: 1 ≤ m ≤ n ≤ length of list.<br>\n",
    "    Example:<br><br>\n",
    "    Input: 1->2->3->4->5->NULL, m = 2, n = 4<br>\n",
    "    Output: 1->4->3->2->5->NULL<br>"
   ]
  },
  {
   "cell_type": "code",
   "execution_count": 16,
   "metadata": {},
   "outputs": [],
   "source": [
    "def sol92(head,m,n):\n",
    "    prev,curr = None,head\n",
    "    \n",
    "    while(m>1):\n",
    "        prev = curr\n",
    "        curr = curr.next\n",
    "        m,n = m-1,n-1\n",
    "        \n",
    "    con,tail = prev,curr\n",
    "    \n",
    "    while(n):\n",
    "        third = curr.next\n",
    "        curr.next = prev\n",
    "        prev = curr\n",
    "        curr = third\n",
    "        n -= 1\n",
    "        \n",
    "    if(con):\n",
    "        con.next = prev\n",
    "    else:\n",
    "        head = prev\n",
    "    tail.next = curr\n",
    "    \n",
    "    return head"
   ]
  },
  {
   "cell_type": "code",
   "execution_count": 105,
   "metadata": {},
   "outputs": [
    {
     "name": "stdout",
     "output_type": "stream",
     "text": [
      "5\n",
      "4\n",
      "3\n",
      "2\n",
      "1\n"
     ]
    }
   ],
   "source": [
    "lc6 = list_to_ll([1,2,3,4,5])\n",
    "traversal(sol92(lc6,1,5))"
   ]
  },
  {
   "cell_type": "markdown",
   "metadata": {},
   "source": [
    "1171. [Remove Zero Sum Consecutive Nodes from Linked List](https://leetcode.com/problems/remove-zero-sum-consecutive-nodes-from-linked-list/)<br>\n",
    "Given the head of a linked list, we repeatedly delete consecutive sequences of nodes that sum to 0 until there are no such sequences.<br>\n",
    "After doing so, return the head of the final linked list.  You may return any such answer.<br>\n",
    "Input: head = [1,2,3,-3,4]<br>\n",
    "Output: [1,2,4]"
   ]
  },
  {
   "cell_type": "code",
   "execution_count": 114,
   "metadata": {},
   "outputs": [],
   "source": [
    "def sol1171(head):\n",
    "    dummy = Node(0)\n",
    "    dummy.next = head\n",
    "    prefix = 0\n",
    "    d = {0:dummy}\n",
    "    while(head):\n",
    "        prefix += head.data\n",
    "        d[prefix] = head\n",
    "        head = head.next\n",
    "        \n",
    "    prefix = 0\n",
    "    head = dummy\n",
    "    while(head):\n",
    "        prefix += head.data\n",
    "        head.next = d[prefix].next\n",
    "        head = head.next\n",
    "        \n",
    "    return dummy.next"
   ]
  },
  {
   "cell_type": "code",
   "execution_count": 115,
   "metadata": {},
   "outputs": [
    {
     "name": "stdout",
     "output_type": "stream",
     "text": [
      "5\n",
      "-2\n",
      "-5\n"
     ]
    }
   ],
   "source": [
    "lc7 = list_to_ll([5,-3,-4,1,6,-2,-5])\n",
    "traversal(sol1171(lc7))"
   ]
  },
  {
   "cell_type": "markdown",
   "metadata": {},
   "source": [
    "Same q using arrays"
   ]
  },
  {
   "cell_type": "code",
   "execution_count": 168,
   "metadata": {},
   "outputs": [],
   "source": [
    "def array_ans(arr):\n",
    "    ans = []\n",
    "    prefix = 0\n",
    "    d = {0:0}\n",
    "    arr.insert(0,0)\n",
    "    for i in range(len(arr)):\n",
    "        prefix += arr[i]\n",
    "        d[prefix] = i\n",
    "    \n",
    "    prefix = 0\n",
    "    i = 0\n",
    "    \n",
    "    while(i<len(arr)):\n",
    "        ans.append(arr[i])\n",
    "        prefix += arr[i]\n",
    "        i = d[prefix]+1\n",
    "\n",
    "    return ans[1:]"
   ]
  },
  {
   "cell_type": "code",
   "execution_count": 170,
   "metadata": {},
   "outputs": [
    {
     "data": {
      "text/plain": [
       "[2, 3]"
      ]
     },
     "execution_count": 170,
     "metadata": {},
     "output_type": "execute_result"
    }
   ],
   "source": [
    "array_ans([1,-1,2,3])"
   ]
  },
  {
   "cell_type": "markdown",
   "metadata": {},
   "source": [
    "1019. [Next Greater Node In Linked List](https://leetcode.com/problems/next-greater-node-in-linked-list/)<br>\n",
    "Example 1:<br>\n",
    "Input: [2,1,5]<br>\n",
    "Output: [5,5,0]<br>"
   ]
  },
  {
   "cell_type": "code",
   "execution_count": 181,
   "metadata": {},
   "outputs": [],
   "source": [
    "def sol1019(head):\n",
    "    res = []\n",
    "    while(head):\n",
    "        res.append(head.data)\n",
    "        head = head.next\n",
    "\n",
    "    dq = []\n",
    "    for i in range(len(res)-1,-1,-1):\n",
    "        while(dq and dq[-1]<=res[i]):\n",
    "            dq.pop()\n",
    "        dq.append(res[i])\n",
    "        res[i] = dq[-2] if(len(dq)>1) else 0\n",
    "\n",
    "    return res"
   ]
  },
  {
   "cell_type": "code",
   "execution_count": 182,
   "metadata": {},
   "outputs": [
    {
     "data": {
      "text/plain": [
       "[7, 0, 5, 5, 0]"
      ]
     },
     "execution_count": 182,
     "metadata": {},
     "output_type": "execute_result"
    }
   ],
   "source": [
    "lc8 = list_to_ll([2,7,4,3,5])\n",
    "sol1019(lc8)"
   ]
  },
  {
   "cell_type": "code",
   "execution_count": 183,
   "metadata": {},
   "outputs": [],
   "source": [
    "#does not work for large inputs(timeout error)\n",
    "def sol1019a(head):\n",
    "    arr = []\n",
    "    while(head.next):\n",
    "        runner = head.next\n",
    "        flag = True\n",
    "        while(runner):\n",
    "            if(runner.data > head.data):\n",
    "                arr.append(runner.data)\n",
    "                flag = False\n",
    "                break\n",
    "            runner = runner.next\n",
    "        if(flag):\n",
    "            arr.append(0)\n",
    "        head = head.next\n",
    "    arr.append(0)\n",
    "    return arr"
   ]
  },
  {
   "cell_type": "code",
   "execution_count": 184,
   "metadata": {},
   "outputs": [
    {
     "data": {
      "text/plain": [
       "[7, 0, 5, 5, 0]"
      ]
     },
     "execution_count": 184,
     "metadata": {},
     "output_type": "execute_result"
    }
   ],
   "source": [
    "lc9 = list_to_ll([2,7,4,3,5])\n",
    "sol1019a(lc9)"
   ]
  },
  {
   "cell_type": "markdown",
   "metadata": {},
   "source": [
    "328. [Odd Even Linked List](https://leetcode.com/problems/odd-even-linked-list/)<br>\n",
    "Given a singly linked list, group all odd nodes together followed by the even nodes. Please note here we are talking about the node number and not the value in the nodes.<br>\n",
    "You should try to do it in place. The program should run in O(1) space complexity and O(nodes) time complexity.<br>\n",
    "Example 1:<br>\n",
    "Input: 1->2->3->4->5->NULL<br>\n",
    "Output: 1->3->5->2->4->NULL<br>"
   ]
  },
  {
   "cell_type": "code",
   "execution_count": 185,
   "metadata": {},
   "outputs": [],
   "source": [
    "def sol328(head):\n",
    "    odd = head\n",
    "    evenh = even = odd.next\n",
    "    \n",
    "    while(even and even.next):\n",
    "        odd.next = even.next\n",
    "        odd = odd.next\n",
    "        even.next = odd.next\n",
    "        even = even.next\n",
    "        \n",
    "    odd.next = evenh\n",
    "    return head"
   ]
  },
  {
   "cell_type": "code",
   "execution_count": 186,
   "metadata": {},
   "outputs": [
    {
     "name": "stdout",
     "output_type": "stream",
     "text": [
      "1\n",
      "3\n",
      "5\n",
      "2\n",
      "4\n"
     ]
    }
   ],
   "source": [
    "lc10 = list_to_ll([1,2,3,4,5])\n",
    "traversal(sol328(lc10))"
   ]
  },
  {
   "cell_type": "markdown",
   "metadata": {},
   "source": [
    "143. [Reorder List](https://leetcode.com/problems/reorder-list/)<br>\n",
    "Given a singly linked list L: L0→L1→…→Ln-1→Ln,<br>\n",
    "reorder it to: L0→Ln→L1→Ln-1→L2→Ln-2→…<br>\n",
    "You may not modify the values in the list's nodes, only nodes itself may be changed.<br>\n",
    "Example 1:<br>\n",
    "Given 1->2->3->4, reorder it to 1->4->2->3."
   ]
  },
  {
   "cell_type": "code",
   "execution_count": 214,
   "metadata": {},
   "outputs": [],
   "source": [
    "#O(n) time O(n) space\n",
    "def sol143(head):\n",
    "    temp = head\n",
    "    count = 0\n",
    "    arr = []\n",
    "    while(temp):\n",
    "        count += 1\n",
    "        arr.append(temp)\n",
    "        temp = temp.next\n",
    "\n",
    "    temp = head\n",
    "    nxt = temp.next\n",
    "    for i in range(math.ceil(count/2)):\n",
    "        temp.next = arr[-1]\n",
    "        temp.next.next = nxt\n",
    "        arr.pop()\n",
    "        temp = nxt\n",
    "        nxt = nxt.next\n",
    "        if(i == math.ceil(count/2)-1):\n",
    "            nxt.next = None\n",
    "        \n",
    "    return head"
   ]
  },
  {
   "cell_type": "code",
   "execution_count": 215,
   "metadata": {},
   "outputs": [
    {
     "name": "stdout",
     "output_type": "stream",
     "text": [
      "1\n",
      "5\n",
      "2\n",
      "4\n",
      "3\n"
     ]
    }
   ],
   "source": [
    "lc11 = list_to_ll([1,2,3,4,5])\n",
    "traversal(sol143(lc11))"
   ]
  },
  {
   "cell_type": "code",
   "execution_count": 220,
   "metadata": {},
   "outputs": [],
   "source": [
    "#O(n^2) time O(1) space (Timeout in LC)\n",
    "def sol143b(head):\n",
    "    \n",
    "    if(head is None or head.next is None):\n",
    "                return None\n",
    "        \n",
    "    curr = head\n",
    "        \n",
    "    count = 0\n",
    "    while(curr):\n",
    "        count += 1\n",
    "        curr = curr.next\n",
    "\n",
    "    curr = head\n",
    "    nxt =  curr.next\n",
    "    places = count-1\n",
    "    for i in range(math.ceil(count/2)):\n",
    "        runner = curr\n",
    "        runnerfast = runner.next\n",
    "        for j in range(places-1):\n",
    "            runner = runnerfast\n",
    "            runnerfast = runnerfast.next\n",
    "        places -= 2\n",
    "        if(nxt == runnerfast):\n",
    "            break\n",
    "        curr.next = runnerfast\n",
    "        runnerfast.next = nxt\n",
    "        runner.next = None\n",
    "        curr = nxt\n",
    "        nxt = nxt.next\n",
    "            \n",
    "    return head"
   ]
  },
  {
   "cell_type": "code",
   "execution_count": 219,
   "metadata": {},
   "outputs": [
    {
     "name": "stdout",
     "output_type": "stream",
     "text": [
      "1\n",
      "5\n",
      "2\n",
      "4\n",
      "3\n"
     ]
    }
   ],
   "source": [
    "lc12 = list_to_ll([1,2,3,4,5])\n",
    "traversal(sol143b(lc12))"
   ]
  },
  {
   "cell_type": "markdown",
   "metadata": {},
   "source": [
    "25. Reverse Nodes in k-Group<br>\n",
    "Given a linked list, reverse the nodes of a linked list k at a time and return its modified list.<br>\n",
    "k is a positive integer and is less than or equal to the length of the linked list. If the number of nodes is not a multiple of k then left-out nodes in the end should remain as it is.<br><br>\n",
    "Example:<br>\n",
    "Given this linked list: 1->2->3->4->5<br>\n",
    "For k = 2, you should return: 2->1->4->3->5<br>\n",
    "For k = 3, you should return: 3->2->1->4->5"
   ]
  },
  {
   "cell_type": "code",
   "execution_count": 17,
   "metadata": {},
   "outputs": [],
   "source": [
    "def sol25(head,k):\n",
    "    length = 0\n",
    "    temp = head \n",
    "    while(temp):\n",
    "        length += 1\n",
    "        temp = temp.next\n",
    "    m = 1\n",
    "    n = (m+k-1)    \n",
    "    for i in range(length//k):\n",
    "        head = sol92(head,m,n)\n",
    "        m += k\n",
    "        n = m+k-1\n",
    "        \n",
    "    return head"
   ]
  },
  {
   "cell_type": "code",
   "execution_count": 19,
   "metadata": {},
   "outputs": [
    {
     "name": "stdout",
     "output_type": "stream",
     "text": [
      "2\n",
      "1\n",
      "4\n",
      "3\n"
     ]
    }
   ],
   "source": [
    "lc13 = list_to_ll([1,2,3,4])\n",
    "traversal(sol25(lc13,2))"
   ]
  },
  {
   "cell_type": "markdown",
   "metadata": {},
   "source": [
    "21. [Merge Two Sorted Lists](https://leetcode.com/problems/merge-two-sorted-lists/)<br>\n",
    "Merge two sorted linked lists and return it as a new sorted list. The new list should be made by splicing together the nodes of the first two lists.<br><br>\n",
    "Example:<br>\n",
    "Input: 1->2->4, 1->3->4<br>\n",
    "Output: 1->1->2->3->4->4<br>"
   ]
  },
  {
   "cell_type": "code",
   "execution_count": 13,
   "metadata": {},
   "outputs": [],
   "source": [
    "def sol21(l1,l2):\n",
    "    p1 = l1 \n",
    "    p2 = l2\n",
    "    p3 = finlist = Node(0)\n",
    "    while(p1 and p2):\n",
    "        if(p1.data <= p2.data):\n",
    "            p3.next = Node(p1.data)\n",
    "            p3 = p3.next\n",
    "            p1 = p1.next\n",
    "            \n",
    "        else:\n",
    "            p3.next = Node(p2.data)\n",
    "            p3 = p3.next\n",
    "            p2 = p2.next\n",
    "            \n",
    "    if(p1 is not None):\n",
    "        while(p1):\n",
    "            if(p1.next is None):\n",
    "                p3.next = Node(p1.data)\n",
    "                break \n",
    "            p3.next = Node(p1.data)\n",
    "            p3 = p3.next\n",
    "            p1 = p1.next\n",
    "            \n",
    "    if(p2 is not None):\n",
    "        while(p2):\n",
    "            if(p2.next is None):\n",
    "                p3.next = Node(p2.data)\n",
    "                break\n",
    "            p3.next = Node(p2.data)\n",
    "            p3 = p3.next\n",
    "            p2 = p2.next\n",
    "    return finlist.next"
   ]
  },
  {
   "cell_type": "code",
   "execution_count": 15,
   "metadata": {},
   "outputs": [
    {
     "name": "stdout",
     "output_type": "stream",
     "text": [
      "1\n",
      "1\n",
      "2\n",
      "3\n",
      "4\n",
      "4\n",
      "5\n"
     ]
    }
   ],
   "source": [
    "lc14a = list_to_ll([1,2,4])\n",
    "lc14b = list_to_ll([1,3,4,5])\n",
    "traversal(sol21(lc14a,lc14b))"
   ]
  },
  {
   "cell_type": "code",
   "execution_count": null,
   "metadata": {},
   "outputs": [],
   "source": []
  }
 ],
 "metadata": {
  "kernelspec": {
   "display_name": "Python 3",
   "language": "python",
   "name": "python3"
  },
  "language_info": {
   "codemirror_mode": {
    "name": "ipython",
    "version": 3
   },
   "file_extension": ".py",
   "mimetype": "text/x-python",
   "name": "python",
   "nbconvert_exporter": "python",
   "pygments_lexer": "ipython3",
   "version": "3.7.4"
  }
 },
 "nbformat": 4,
 "nbformat_minor": 2
}
