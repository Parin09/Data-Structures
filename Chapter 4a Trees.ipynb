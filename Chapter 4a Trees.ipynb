{
 "cells": [
  {
   "cell_type": "markdown",
   "metadata": {},
   "source": [
    "# Binary Trees"
   ]
  },
  {
   "cell_type": "code",
   "execution_count": 25,
   "metadata": {},
   "outputs": [],
   "source": [
    "import queue"
   ]
  },
  {
   "cell_type": "code",
   "execution_count": 3,
   "metadata": {},
   "outputs": [],
   "source": [
    "class Node:\n",
    "    def __init__(self,data):\n",
    "        self.data = data\n",
    "        self.right = None\n",
    "        self.left = None"
   ]
  },
  {
   "cell_type": "markdown",
   "metadata": {},
   "source": [
    "[Link](https://leetcode.com/problems/binary-tree-postorder-traversal/discuss/673894/Iterative-solution-for-all-types-of-tree-traversal-in-C%2B%2BJavaPython)"
   ]
  },
  {
   "cell_type": "markdown",
   "metadata": {},
   "source": [
    "Preorder"
   ]
  },
  {
   "cell_type": "code",
   "execution_count": 60,
   "metadata": {},
   "outputs": [],
   "source": [
    "def preorderrecr(root):\n",
    "    #root->left->right\n",
    "    res = []\n",
    "    if root:\n",
    "        res.append(root.data)\n",
    "        res = res + preorderrecr(root.left)\n",
    "        res = res + preorderrecr(root.right)\n",
    "        \n",
    "    return res"
   ]
  },
  {
   "cell_type": "code",
   "execution_count": 5,
   "metadata": {},
   "outputs": [],
   "source": [
    "def preorderiterative(root):\n",
    "    if not root:\n",
    "        return []\n",
    "    stack = [root]\n",
    "    res = []\n",
    "    while(stack):\n",
    "        node = stack.pop()\n",
    "        res.append(node.data)\n",
    "        if node.right:\n",
    "            stack.append(node.right)\n",
    "        if node.left:\n",
    "            stack.append(node.left)\n",
    "    return res"
   ]
  },
  {
   "cell_type": "raw",
   "metadata": {},
   "source": [
    "Inorder"
   ]
  },
  {
   "cell_type": "code",
   "execution_count": 59,
   "metadata": {},
   "outputs": [],
   "source": [
    "def inorderrecr(root):\n",
    "    #left->root->right\n",
    "    res = []\n",
    "    if root:\n",
    "        res = res + inorderrecr(root.left)\n",
    "        res.append(root.data)\n",
    "        res = res + inorderrecr(root.right)\n",
    "        \n",
    "    return res"
   ]
  },
  {
   "cell_type": "code",
   "execution_count": 7,
   "metadata": {},
   "outputs": [],
   "source": [
    "def inorderiterative(root):\n",
    "    if not root:\n",
    "        return []\n",
    "    stack = []\n",
    "    res = []\n",
    "    curr = root\n",
    "    \n",
    "    #if current is none and stack is empty then done\n",
    "    while curr or stack:\n",
    "        \n",
    "        #if current node is not none push it to stack and move to its left child\n",
    "        if curr:\n",
    "            stack.append(curr)\n",
    "            curr = curr.left\n",
    "        #if current node is none we pop element and print it and set the set curr to its left child\n",
    "        else:\n",
    "            curr = stack.pop()\n",
    "            res.append(curr.data)\n",
    "            curr = curr.right\n",
    "            \n",
    "    return res"
   ]
  },
  {
   "cell_type": "markdown",
   "metadata": {},
   "source": [
    "Postorder"
   ]
  },
  {
   "cell_type": "code",
   "execution_count": 58,
   "metadata": {},
   "outputs": [],
   "source": [
    "def postorderrecr(root):\n",
    "    #left->right->root\n",
    "    res = []\n",
    "    if root:\n",
    "        res = res + postorderrecr(root.left)\n",
    "        res = res + postorderrecr(root.right)\n",
    "        res.append(root.data)\n",
    "        \n",
    "    return res"
   ]
  },
  {
   "cell_type": "code",
   "execution_count": 9,
   "metadata": {},
   "outputs": [],
   "source": [
    "def postorderiterative(root):\n",
    "    stack = []\n",
    "    stack.append(root)\n",
    "    res = []\n",
    "    #runs till stack is not empty\n",
    "    while stack:\n",
    "        \n",
    "        #pop a node from the current stack and push it onto output stack\n",
    "        curr = stack.pop()\n",
    "        res.append(curr.data)\n",
    "        \n",
    "        if curr.left:\n",
    "            stack.append(curr.left)\n",
    "        if curr.right:\n",
    "            stack.append(curr.right)\n",
    "    res.reverse()        \n",
    "    return res"
   ]
  },
  {
   "cell_type": "markdown",
   "metadata": {},
   "source": [
    "Height"
   ]
  },
  {
   "cell_type": "code",
   "execution_count": 10,
   "metadata": {},
   "outputs": [],
   "source": [
    "def height(root):\n",
    "    if root is None:\n",
    "        return 0\n",
    "    else:\n",
    "        lheight = height(root.left)\n",
    "        rheight = height(root.right)\n",
    "        \n",
    "        if lheight > rheight:\n",
    "            return lheight+1\n",
    "        else:\n",
    "            return rheight+1"
   ]
  },
  {
   "cell_type": "code",
   "execution_count": 11,
   "metadata": {},
   "outputs": [],
   "source": [
    "def printgivenlevel(root,level):\n",
    "    if root is None:\n",
    "        return \n",
    "    if level == 1:\n",
    "        print(root.data, end =\" \")\n",
    "    elif level > 1:\n",
    "        printgivenlevel(root.left,level-1)\n",
    "        printgivenlevel(root.right,level-1)"
   ]
  },
  {
   "cell_type": "markdown",
   "metadata": {},
   "source": [
    "Levelorder"
   ]
  },
  {
   "cell_type": "code",
   "execution_count": 12,
   "metadata": {},
   "outputs": [],
   "source": [
    "def levelorder(root):\n",
    "    h = height(root)\n",
    "    for i in range(1,h+1):\n",
    "        printgivenlevel(root,i)"
   ]
  },
  {
   "cell_type": "markdown",
   "metadata": {},
   "source": [
    "[Tree from Preorder and Inorder Traversal](https://leetcode.com/problems/construct-binary-tree-from-preorder-and-inorder-traversal/)"
   ]
  },
  {
   "cell_type": "code",
   "execution_count": 42,
   "metadata": {},
   "outputs": [],
   "source": [
    "def search(arr,start,end,val):\n",
    "    for i in range(start,end+1):\n",
    "        if arr[i] == val:\n",
    "            return i"
   ]
  },
  {
   "cell_type": "code",
   "execution_count": 78,
   "metadata": {},
   "outputs": [],
   "source": [
    "def buildtree(inorder,preorder,strtidx,endidx):\n",
    "    if strtidx > endidx:\n",
    "        return \n",
    "    \n",
    "    tnode = Node(preorder[buildtree.preidx])\n",
    "    buildtree.preidx += 1\n",
    "    if strtidx == endidx:\n",
    "        return tnode\n",
    "\n",
    "    inidx = search(inorder,strtidx,endidx,tnode.data)\n",
    "    \n",
    "    tnode.left = buildtree(inorder,preorder,strtidx,inidx-1)\n",
    "    tnode.right = buildtree(inorder,preorder,inidx+1,endidx)\n",
    "    \n",
    "    return tnode"
   ]
  },
  {
   "cell_type": "markdown",
   "metadata": {},
   "source": [
    "[Build tree from Postorder and Inorder](https://leetcode.com/problems/construct-binary-tree-from-inorder-and-postorder-traversal/submissions/)"
   ]
  },
  {
   "cell_type": "code",
   "execution_count": 85,
   "metadata": {},
   "outputs": [],
   "source": [
    "def buildtree2(inorder,preorder,strtidx,endidx):\n",
    "    if strtidx > endidx:\n",
    "        return \n",
    "    \n",
    "    tnode = Node(preorder[buildtree2.preidx2])\n",
    "    buildtree2.preidx2 -= 1\n",
    "    if strtidx == endidx:\n",
    "        return tnode\n",
    "\n",
    "    inidx = search(inorder,strtidx,endidx,tnode.data)\n",
    "    \n",
    "    tnode.right = buildtree2(inorder,preorder,inidx+1,endidx)\n",
    "    tnode.left = buildtree2(inorder,preorder,strtidx,inidx-1)\n",
    "    \n",
    "    return tnode"
   ]
  },
  {
   "cell_type": "markdown",
   "metadata": {},
   "source": [
    "Path from root to node p"
   ]
  },
  {
   "cell_type": "code",
   "execution_count": 80,
   "metadata": {},
   "outputs": [
    {
     "data": {
      "text/plain": [
       "<__main__.Node at 0x23e056cfd88>"
      ]
     },
     "execution_count": 80,
     "metadata": {},
     "output_type": "execute_result"
    }
   ],
   "source": [
    "buildtree.preidx = 0\n",
    "inorder1 = [4, 2, 5, 1, 6, 3, 7]\n",
    "preorder1 = [1, 2, 4, 5, 3, 6, 7]\n",
    "rootbt = buildtree(inorder1,preorder1,0,len(inorder)-1)\n",
    "rootbt"
   ]
  },
  {
   "cell_type": "code",
   "execution_count": 81,
   "metadata": {},
   "outputs": [
    {
     "data": {
      "text/plain": [
       "[1, 2, 4, 5, 3, 6, 7]"
      ]
     },
     "execution_count": 81,
     "metadata": {},
     "output_type": "execute_result"
    }
   ],
   "source": [
    "preorderrecr(rootbt)"
   ]
  },
  {
   "cell_type": "code",
   "execution_count": 86,
   "metadata": {},
   "outputs": [
    {
     "data": {
      "text/plain": [
       "<__main__.Node at 0x23e0583e888>"
      ]
     },
     "execution_count": 86,
     "metadata": {},
     "output_type": "execute_result"
    }
   ],
   "source": [
    "postorder2 = [4, 5, 2, 6, 7, 3, 1]\n",
    "inorder2 = [4, 2, 5, 1, 6, 3, 7]\n",
    "buildtree2.preidx2 = len(inorder1)-1\n",
    "rootbt2 = buildtree2(inorder2,postorder2,0,len(inorder2)-1)\n",
    "rootbt2"
   ]
  },
  {
   "cell_type": "markdown",
   "metadata": {},
   "source": [
    "            1\n",
    "           / \\\n",
    "          2   3\n",
    "         /\\   /\\\n",
    "        4  5 6  7"
   ]
  },
  {
   "cell_type": "code",
   "execution_count": 56,
   "metadata": {},
   "outputs": [],
   "source": [
    "tree = Node(1)\n",
    "tree.left = Node(2)\n",
    "tree.right = Node(3)\n",
    "tree.left.left = Node(4)\n",
    "tree.left.right = Node(5)\n",
    "tree.right.left = Node(6)\n",
    "tree.right.right = Node(7)"
   ]
  },
  {
   "cell_type": "code",
   "execution_count": 62,
   "metadata": {},
   "outputs": [
    {
     "data": {
      "text/plain": [
       "[1, 2, 4, 5, 3, 6, 7]"
      ]
     },
     "execution_count": 62,
     "metadata": {},
     "output_type": "execute_result"
    }
   ],
   "source": [
    "preorderrecr(tree)"
   ]
  },
  {
   "cell_type": "code",
   "execution_count": 63,
   "metadata": {},
   "outputs": [
    {
     "data": {
      "text/plain": [
       "[4, 2, 5, 1, 6, 3, 7]"
      ]
     },
     "execution_count": 63,
     "metadata": {},
     "output_type": "execute_result"
    }
   ],
   "source": [
    "inorderrecr(tree)"
   ]
  },
  {
   "cell_type": "code",
   "execution_count": 16,
   "metadata": {},
   "outputs": [
    {
     "data": {
      "text/plain": [
       "[4, 2, 5, 1, 6, 3, 7]"
      ]
     },
     "execution_count": 16,
     "metadata": {},
     "output_type": "execute_result"
    }
   ],
   "source": [
    "inorderiterative(tree)"
   ]
  },
  {
   "cell_type": "code",
   "execution_count": 64,
   "metadata": {},
   "outputs": [
    {
     "data": {
      "text/plain": [
       "[4, 5, 2, 6, 7, 3, 1]"
      ]
     },
     "execution_count": 64,
     "metadata": {},
     "output_type": "execute_result"
    }
   ],
   "source": [
    "postorderrecr(tree)"
   ]
  },
  {
   "cell_type": "code",
   "execution_count": 18,
   "metadata": {},
   "outputs": [
    {
     "data": {
      "text/plain": [
       "[4, 5, 2, 6, 7, 3, 1]"
      ]
     },
     "execution_count": 18,
     "metadata": {},
     "output_type": "execute_result"
    }
   ],
   "source": [
    "postorderiterative(tree)"
   ]
  },
  {
   "cell_type": "code",
   "execution_count": 19,
   "metadata": {},
   "outputs": [
    {
     "data": {
      "text/plain": [
       "3"
      ]
     },
     "execution_count": 19,
     "metadata": {},
     "output_type": "execute_result"
    }
   ],
   "source": [
    "height(tree)"
   ]
  },
  {
   "cell_type": "code",
   "execution_count": 20,
   "metadata": {},
   "outputs": [
    {
     "name": "stdout",
     "output_type": "stream",
     "text": [
      "1 2 3 4 5 6 7 "
     ]
    }
   ],
   "source": [
    "levelorder(tree)"
   ]
  },
  {
   "cell_type": "markdown",
   "metadata": {},
   "source": [
    "# Binary Search Trees"
   ]
  },
  {
   "cell_type": "markdown",
   "metadata": {},
   "source": [
    "            10\n",
    "           /  \\\n",
    "          7   15\n",
    "         /\\   /\\\n",
    "        4  9 13 18"
   ]
  },
  {
   "cell_type": "code",
   "execution_count": 21,
   "metadata": {},
   "outputs": [],
   "source": [
    "btree = Node(10)\n",
    "btree.left = Node(7)\n",
    "btree.right = Node(15)\n",
    "btree.left.left = Node(4)\n",
    "btree.left.right = Node(9)\n",
    "btree.right.left = Node(13)\n",
    "btree.right.right = Node(18)"
   ]
  },
  {
   "cell_type": "code",
   "execution_count": 22,
   "metadata": {},
   "outputs": [
    {
     "name": "stdout",
     "output_type": "stream",
     "text": [
      "10 7 15 4 9 13 18 "
     ]
    }
   ],
   "source": [
    "levelorder(btree)"
   ]
  },
  {
   "cell_type": "markdown",
   "metadata": {},
   "source": [
    "Searching element in BSTree"
   ]
  },
  {
   "cell_type": "code",
   "execution_count": 23,
   "metadata": {},
   "outputs": [],
   "source": [
    "def search(root,val):\n",
    "    if root == None:\n",
    "        return \"no\"\n",
    "    elif root.data == val:\n",
    "        return \"yes\"\n",
    "    elif val < root.data:\n",
    "        return search(root.left,val)\n",
    "    else:\n",
    "        return search(root.right,val)"
   ]
  },
  {
   "cell_type": "markdown",
   "metadata": {},
   "source": [
    "Inserting element in BSTree"
   ]
  },
  {
   "cell_type": "code",
   "execution_count": 31,
   "metadata": {},
   "outputs": [],
   "source": [
    "def insert(root,val):\n",
    "    newnode = Node(val)\n",
    "    if root is None:\n",
    "        root = newnode\n",
    "    elif val < root.data:\n",
    "        root.left = insert(root.left,val)\n",
    "    else:\n",
    "        root.right = insert(root.right,val)\n",
    "    return root"
   ]
  },
  {
   "cell_type": "markdown",
   "metadata": {},
   "source": [
    "List to BSTree"
   ]
  },
  {
   "cell_type": "code",
   "execution_count": 25,
   "metadata": {},
   "outputs": [],
   "source": [
    "def list_to_bst(lists,root):\n",
    "    for i in range(len(lists)):\n",
    "        root = insert(root,lists[i])\n",
    "    return root"
   ]
  },
  {
   "cell_type": "markdown",
   "metadata": {},
   "source": [
    "Deleting node in BST"
   ]
  },
  {
   "cell_type": "code",
   "execution_count": 26,
   "metadata": {},
   "outputs": [],
   "source": [
    "def minvaluenode(root):\n",
    "    while(root.left is not None):\n",
    "        root = root.left\n",
    "    return root\n",
    "def deletenode(root,val):\n",
    "    if root is None:\n",
    "        return root\n",
    "    if val == root.data:\n",
    "        if root.left is None:\n",
    "            root = root.right\n",
    "        elif root.right is None:\n",
    "            root = root.left\n",
    "        else:\n",
    "            temp = minvaluenode(root.right)\n",
    "            root.data = temp.data\n",
    "            root.right = deletenode(root.right,root.data)\n",
    "    elif val < root.data:\n",
    "        root.left = deletenode(root.left, val)\n",
    "    else:\n",
    "        root.right = deletenode(root.right, val)\n",
    "        \n",
    "    return root"
   ]
  },
  {
   "cell_type": "markdown",
   "metadata": {},
   "source": [
    "Checking if BTree is BST"
   ]
  },
  {
   "cell_type": "code",
   "execution_count": 27,
   "metadata": {},
   "outputs": [],
   "source": [
    "def isBST(root,l = None, r = None):\n",
    "    if root is None:\n",
    "        return True\n",
    "    elif l is not None and root.data <= l.data:\n",
    "        return False\n",
    "    elif r is not None and root.data >= r.data:\n",
    "        return False\n",
    "    return isBST(root.left,l,root) and isBST(root.right,root,r)"
   ]
  },
  {
   "cell_type": "code",
   "execution_count": 28,
   "metadata": {},
   "outputs": [],
   "source": [
    "def isBST2(root):\n",
    "    res = inorder(root)\n",
    "    temp1 = res[:]\n",
    "    temp1.sort()\n",
    "    temp2 = set(res)\n",
    "    \n",
    "    if temp1 == res and len(res) == len(temp2):\n",
    "        return True\n",
    "    else:\n",
    "        return False"
   ]
  },
  {
   "cell_type": "markdown",
   "metadata": {},
   "source": [
    "Smallest Element in BST"
   ]
  },
  {
   "cell_type": "code",
   "execution_count": 34,
   "metadata": {},
   "outputs": [],
   "source": [
    "def smallestelement(root):\n",
    "    if root is None or root.left is None:\n",
    "        return root.data\n",
    "    else:\n",
    "        return smallestelement(root.left)"
   ]
  },
  {
   "cell_type": "markdown",
   "metadata": {},
   "source": [
    "Largest Element in BST"
   ]
  },
  {
   "cell_type": "code",
   "execution_count": 36,
   "metadata": {},
   "outputs": [],
   "source": [
    "def largestelement(root):\n",
    "    if root is None or root.right is None:\n",
    "        return root.data\n",
    "    else:\n",
    "        return largestelement(root.right)"
   ]
  },
  {
   "cell_type": "code",
   "execution_count": null,
   "metadata": {},
   "outputs": [],
   "source": []
  },
  {
   "cell_type": "code",
   "execution_count": null,
   "metadata": {},
   "outputs": [],
   "source": []
  },
  {
   "cell_type": "code",
   "execution_count": 32,
   "metadata": {},
   "outputs": [],
   "source": [
    "bst = None\n",
    "bst = list_to_bst([10,7,15,4,9,13,18],bst)"
   ]
  },
  {
   "cell_type": "code",
   "execution_count": 35,
   "metadata": {},
   "outputs": [
    {
     "data": {
      "text/plain": [
       "4"
      ]
     },
     "execution_count": 35,
     "metadata": {},
     "output_type": "execute_result"
    }
   ],
   "source": [
    "smallestelement(bst)"
   ]
  },
  {
   "cell_type": "code",
   "execution_count": 37,
   "metadata": {},
   "outputs": [
    {
     "data": {
      "text/plain": [
       "18"
      ]
     },
     "execution_count": 37,
     "metadata": {},
     "output_type": "execute_result"
    }
   ],
   "source": [
    "largestelement(bst)"
   ]
  },
  {
   "cell_type": "code",
   "execution_count": 212,
   "metadata": {},
   "outputs": [
    {
     "data": {
      "text/plain": [
       "[4, 7, 9, 10, 13, 15, 18]"
      ]
     },
     "execution_count": 212,
     "metadata": {},
     "output_type": "execute_result"
    }
   ],
   "source": [
    "inorder(bst)"
   ]
  },
  {
   "cell_type": "code",
   "execution_count": 214,
   "metadata": {},
   "outputs": [
    {
     "data": {
      "text/plain": [
       "True"
      ]
     },
     "execution_count": 214,
     "metadata": {},
     "output_type": "execute_result"
    }
   ],
   "source": [
    "isBST2(bst)"
   ]
  },
  {
   "cell_type": "code",
   "execution_count": null,
   "metadata": {},
   "outputs": [],
   "source": []
  },
  {
   "cell_type": "code",
   "execution_count": 162,
   "metadata": {},
   "outputs": [
    {
     "data": {
      "text/plain": [
       "[4, 7, 9, 13, 15, 18]"
      ]
     },
     "execution_count": 162,
     "metadata": {},
     "output_type": "execute_result"
    }
   ],
   "source": [
    "bst = deletenode(bst,11)\n",
    "inorder(bst)"
   ]
  },
  {
   "cell_type": "code",
   "execution_count": null,
   "metadata": {},
   "outputs": [],
   "source": []
  },
  {
   "cell_type": "code",
   "execution_count": 172,
   "metadata": {},
   "outputs": [
    {
     "name": "stdout",
     "output_type": "stream",
     "text": [
      "36 35 36 33 30 26 21 15 8 "
     ]
    }
   ],
   "source": [
    "lists = [36, 36, 35, 33, 30, 26, 21, 15, 8]\n",
    "lctree = None\n",
    "lctree = list_to_bst(lists,lctree)\n",
    "levelorder(lctree)"
   ]
  },
  {
   "cell_type": "markdown",
   "metadata": {},
   "source": [
    "## Cracking the Coding Interview"
   ]
  },
  {
   "cell_type": "markdown",
   "metadata": {},
   "source": [
    "1. Implement a function to check if a tree is balanced   For the purposes of this question, a balanced tree is defined to be a tree such that no two leaf nodes differ in distance from the root by more than one "
   ]
  },
  {
   "cell_type": "code",
   "execution_count": 104,
   "metadata": {},
   "outputs": [],
   "source": [
    "def maxdepth2(root):\n",
    "    if root is None:\n",
    "        return 0\n",
    "    else:\n",
    "        lheight = maxdepth2(root.left)\n",
    "        rheight = maxdepth2(root.right)\n",
    "        \n",
    "        return 1 + max(lheight,rheight)\n",
    "    \n",
    "def mindepth2(root):\n",
    "    if root is None:\n",
    "        return 0\n",
    "    else:\n",
    "        lheight = mindepth2(root.left)\n",
    "        rheight = mindepth2(root.right)\n",
    "        \n",
    "        return 1 + min(lheight,rheight)\n",
    "    \n",
    "def sol1a(root):\n",
    "    if (maxdepth2(root) - mindepth2(root))<=1:\n",
    "        return True\n",
    "    return False"
   ]
  },
  {
   "cell_type": "code",
   "execution_count": 105,
   "metadata": {},
   "outputs": [],
   "source": [
    "cci1 = Node(1)\n",
    "cci1.left = Node(2)\n",
    "cci1.right = Node(3)\n",
    "cci1.left.left = Node(4)\n",
    "cci1.left.left.left = Node(5)"
   ]
  },
  {
   "cell_type": "code",
   "execution_count": 106,
   "metadata": {},
   "outputs": [
    {
     "data": {
      "text/plain": [
       "False"
      ]
     },
     "execution_count": 106,
     "metadata": {},
     "output_type": "execute_result"
    }
   ],
   "source": [
    "sol1a(cci1)"
   ]
  },
  {
   "cell_type": "code",
   "execution_count": 98,
   "metadata": {},
   "outputs": [],
   "source": [
    "def maxdepth(root):\n",
    "    if root is None:\n",
    "        return 0\n",
    "    return 1 + max(maxdepth(root.left),maxdepth(root.right))\n",
    "def mindepth(root):\n",
    "    if root is None:\n",
    "        return 0\n",
    "    return 1 + min(mindepth(root.left),mindepth(root.right))\n",
    "\n",
    "def sol1(root):\n",
    "    print(maxdepth(root))\n",
    "    print(mindepth(root))\n",
    "    if (maxdepth(root) - mindepth(root))<=1:\n",
    "        return True\n",
    "    return False"
   ]
  },
  {
   "cell_type": "code",
   "execution_count": 99,
   "metadata": {},
   "outputs": [
    {
     "name": "stdout",
     "output_type": "stream",
     "text": [
      "4\n",
      "2\n"
     ]
    },
    {
     "data": {
      "text/plain": [
       "False"
      ]
     },
     "execution_count": 99,
     "metadata": {},
     "output_type": "execute_result"
    }
   ],
   "source": [
    "sol1(cci1)"
   ]
  },
  {
   "cell_type": "markdown",
   "metadata": {},
   "source": [
    "3. Given a sorted (increasing order) array, write an algorithm to create a binary tree with minimal height <br>\n",
    "same as leetcode [problem](https://leetcode.com/problems/convert-sorted-array-to-binary-search-tree/submissions/)"
   ]
  },
  {
   "cell_type": "code",
   "execution_count": 108,
   "metadata": {},
   "outputs": [],
   "source": [
    "def sol3(arr,start,end):\n",
    "    if start>end:\n",
    "        return None\n",
    "    mid = (start+end)//2\n",
    "    treenode = Node(arr[mid])\n",
    "    \n",
    "    treenode.left = sol3(arr,start,mid-1)\n",
    "    treenode.right = sol3(arr,mid+1,end)\n",
    "    \n",
    "    return treenode\n",
    "\n",
    "def sol3main(arr):\n",
    "    return sol3(arr,0,len(arr)-1)"
   ]
  },
  {
   "cell_type": "code",
   "execution_count": 110,
   "metadata": {},
   "outputs": [
    {
     "name": "stdout",
     "output_type": "stream",
     "text": [
      "2 1 3 4 "
     ]
    }
   ],
   "source": [
    "cci2 = sol3main([1,2,3,4])\n",
    "levelorder(cci2)"
   ]
  },
  {
   "cell_type": "markdown",
   "metadata": {},
   "source": [
    "4. Given a binary search tree, design an algorithm which creates a linked list of all the nodes at each depth (eg, if you have a tree with depth D, you’ll have D linked lists)"
   ]
  },
  {
   "cell_type": "code",
   "execution_count": 168,
   "metadata": {},
   "outputs": [],
   "source": [
    "class LinkedListNode:\n",
    "    def __init__(self,data):\n",
    "        self.data = data\n",
    "        self.next = None\n",
    "    \n",
    "def sol4(root,dict1,level):\n",
    "    if root is None:\n",
    "        return\n",
    "    dict1.setdefault(level,[]).append(root.data)\n",
    "    sol4(root.left,dict1,level+1)\n",
    "    sol4(root.right,dict1,level+1)\n",
    "    \n",
    "    return dict1\n",
    "\n",
    "def insertintolinkedlist(root,val):\n",
    "    node = LinkedListNode(val)\n",
    "#     print(val)\n",
    "    if root is None:\n",
    "        root = node\n",
    "    else:\n",
    "        while(root.next):\n",
    "            root = root.next\n",
    "        root.next = node\n",
    "    return root\n",
    "\n",
    "def sol4main(root):\n",
    "    dict1 = {}\n",
    "    listofll = []\n",
    "        \n",
    "    dict1 = sol4(root,dict1,1)\n",
    "    for i in range(len(dict1)):\n",
    "        listofll.append(None)\n",
    "    count = 0\n",
    "    for key in dict1:\n",
    "        print(key-1)\n",
    "        for i in range(len(dict1[key])):\n",
    "            print(dict1[key][i], end = \" \")\n",
    "            listofll[key-1] = insertintolinkedlist(listofll[key-1],dict1[key][i])\n",
    "        print()\n",
    "    return listofll\n",
    "        "
   ]
  },
  {
   "cell_type": "markdown",
   "metadata": {},
   "source": [
    "         1\n",
    "        / \\\n",
    "       2   3\n",
    "      / \\  /\\\n",
    "     4   5 6 7"
   ]
  },
  {
   "cell_type": "code",
   "execution_count": 161,
   "metadata": {},
   "outputs": [],
   "source": [
    "cci4 = Node(1)\n",
    "cci4.left = Node(2)\n",
    "cci4.right = Node(3)\n",
    "cci4.left.left = Node(4)\n",
    "cci4.left.right = Node(5)\n",
    "cci4.right.left = Node(6)\n",
    "cci4.right.right = Node(7)"
   ]
  },
  {
   "cell_type": "code",
   "execution_count": 166,
   "metadata": {},
   "outputs": [
    {
     "name": "stdout",
     "output_type": "stream",
     "text": [
      "0\n",
      "1 \n",
      "1\n",
      "2 3 \n",
      "2\n",
      "4 5 6 7 \n"
     ]
    }
   ],
   "source": [
    "soln4 = sol4main(cci4)"
   ]
  },
  {
   "cell_type": "markdown",
   "metadata": {},
   "source": [
    "236. Lowest Common Ancestor of a Binary Tree5. Design an algorithm and write code to find the first common ancestor of two nodes in a binary tree  Avoid storing additional nodes in a data structure   NOTE: This is not necessarily a binary search tree \n",
    "\n",
    "Leetcode problem: 236. [Lowest Common Ancestor of a Binary Tree](https://leetcode.com/problems/lowest-common-ancestor-of-a-binary-tree/)"
   ]
  },
  {
   "cell_type": "code",
   "execution_count": 180,
   "metadata": {},
   "outputs": [],
   "source": [
    "def findLCA(path1,path2):\n",
    "    i = 0 \n",
    "    while(i < len(path1) and i < len(path2)): \n",
    "        if path1[i] != path2[i]: \n",
    "            break\n",
    "        i += 1\n",
    "    return path1[i-1]\n",
    "def lowestcommonancestor2(root,p,q):\n",
    "    path1 = []\n",
    "    path2 = []\n",
    "    findpath(root,path1,p)\n",
    "    findpath(root,path2,q)\n",
    "    lowestcommonancestor2(path1,path2)"
   ]
  },
  {
   "cell_type": "code",
   "execution_count": 181,
   "metadata": {},
   "outputs": [],
   "source": [
    "def lowestcommonancestor(root,p,q):\n",
    "    if root is None or root == p or root == q:\n",
    "        return root\n",
    "\n",
    "    left = lowestCommonAncestor(root.left,p,q)\n",
    "    right = lowestCommonAncestor(root.right,p,q)\n",
    "\n",
    "    if left != None and right != None:\n",
    "        return root\n",
    "\n",
    "    if left !=None:\n",
    "        return left\n",
    "\n",
    "    if left == None:\n",
    "        return right"
   ]
  },
  {
   "cell_type": "markdown",
   "metadata": {},
   "source": [
    "## Leetcode"
   ]
  },
  {
   "cell_type": "markdown",
   "metadata": {},
   "source": [
    "1038. [Binary Search Tree to Greater Sum Tree](https://leetcode.com/problems/binary-search-tree-to-greater-sum-tree/)<br>\n",
    "Given the root of a binary search tree with distinct values, modify it so that every node has a new value equal to the sum of the values of the original tree that are greater than or equal to node.val.<"
   ]
  },
  {
   "cell_type": "code",
   "execution_count": 174,
   "metadata": {},
   "outputs": [],
   "source": [
    "def traversetree(self,root,dict1):\n",
    "    if root:\n",
    "        traversetree(root.left,dict1)\n",
    "        root.data = dict1[root.data]\n",
    "        traversetree(root.right,dict1)\n",
    "\n",
    "def bstToGst(self, root):\n",
    "    dict1 = {}\n",
    "    oglist = inorder(root)\n",
    "    x = len(oglist)\n",
    "    for i in range(x):\n",
    "        sum = 0\n",
    "        for j in range((x-i)):\n",
    "            sum += oglist[j-(x-i)]\n",
    "            dict1[oglist[i]] = sum\n",
    "\n",
    "    return traversetree(root,dict1)"
   ]
  },
  {
   "cell_type": "markdown",
   "metadata": {},
   "source": [
    "1373. [Maximum Sum BST in Binary Tree](https://leetcode.com/problems/maximum-sum-bst-in-binary-tree/)<br>\n",
    "Given a binary tree root, the task is to return the maximum sum of all keys of any sub-tree which is also a Binary Search Tree (BST)."
   ]
  },
  {
   "cell_type": "code",
   "execution_count": 223,
   "metadata": {},
   "outputs": [],
   "source": [
    "#timeout for large inputs Else works fine\n",
    "def sumtree(root):\n",
    "    res = []\n",
    "    if root:\n",
    "        res = res + sumtree(root.left)\n",
    "        res.append(root.data)\n",
    "        res = res + sumtree(root.right)\n",
    "    return res\n",
    "\n",
    "def isBST(root):\n",
    "    testlist1 = sumtree(root)\n",
    "    testlist2 = testlist1[:]\n",
    "    testlist2.sort()\n",
    "    testlist3 = set(testlist1)\n",
    "    if testlist1 == testlist2 and len(testlist1) == len(testlist3):\n",
    "        return True\n",
    "    else:\n",
    "        return False\n",
    "\n",
    "def finans(root):\n",
    "    sum = 0\n",
    "    res = sumtree(root)\n",
    "    for i in range(len(res)):\n",
    "        sum += res[i]\n",
    "\n",
    "    flag = isBST(root)\n",
    "    if flag:\n",
    "        return sum\n",
    "\n",
    "def traverse(root):\n",
    "    temp = []\n",
    "    if root:\n",
    "        temp = temp + traverse(root.left)\n",
    "        temp.append(finans(root))\n",
    "        temp = temp + traverse(root.right)\n",
    "    return temp\n",
    "\n",
    "def maxSumBST(root):\n",
    "    ans = traverse(root)\n",
    "    ans = [i for i in ans if i]\n",
    "\n",
    "    if max(ans) < 0:\n",
    "        return 0\n",
    "    else:\n",
    "        return max(ans)"
   ]
  },
  {
   "cell_type": "markdown",
   "metadata": {},
   "source": [
    "         1\n",
    "       /  \\\n",
    "      4    3\n",
    "     / \\  / \\\n",
    "    2  4 2   5\n",
    "            / \\\n",
    "           4   6"
   ]
  },
  {
   "cell_type": "code",
   "execution_count": 225,
   "metadata": {},
   "outputs": [
    {
     "data": {
      "text/plain": [
       "20"
      ]
     },
     "execution_count": 225,
     "metadata": {},
     "output_type": "execute_result"
    }
   ],
   "source": [
    "lc1 = Node(1)\n",
    "lc1.left = Node(4)\n",
    "lc1.left.left = Node(2)\n",
    "lc1.left.right = Node(4)\n",
    "lc1.right = Node(3)\n",
    "lc1.right.left = Node(2)\n",
    "lc1.right.right = Node(5)\n",
    "lc1.right.right.left = Node(4)\n",
    "lc1.right.right.right = Node(6)\n",
    "maxSumBST(lc1)"
   ]
  },
  {
   "cell_type": "markdown",
   "metadata": {},
   "source": [
    "100. [Same Tree](https://leetcode.com/problems/same-tree/)<br>\n",
    "Given two binary trees, write a function to check if they are the same or not.<br>\n",
    "Two binary trees are considered the same if they are structurally identical and the nodes have the same value."
   ]
  },
  {
   "cell_type": "code",
   "execution_count": 226,
   "metadata": {},
   "outputs": [],
   "source": [
    "def isSameTree(p, q):\n",
    "    if not p and not q:\n",
    "        return True\n",
    "    if not q or not p:\n",
    "        return False\n",
    "    if p.data != q.data:\n",
    "        return False\n",
    "    return isSameTree(p.right, q.right) and isSameTree(p.left, q.left)"
   ]
  },
  {
   "cell_type": "markdown",
   "metadata": {},
   "source": [
    "101. [Symmetric Tree](https://leetcode.com/problems/symmetric-tree/)<br>\n",
    "Given a binary tree, check whether it is a mirror of itself (ie, symmetric around its center).<br>\n",
    "For example, this binary tree [1,2,2,3,4,4,3] is symmetric:"
   ]
  },
  {
   "cell_type": "code",
   "execution_count": 227,
   "metadata": {},
   "outputs": [],
   "source": [
    "def isMirror(p, q):\n",
    "    if not p and not q:\n",
    "        return True\n",
    "    if not q or not p:\n",
    "        return False\n",
    "    if p.data != q.data:\n",
    "        return False\n",
    "    return isSameTree(p.right, q.left) and isSameTree(p.left, q.right)\n",
    "    \n",
    "    def isSymmetric(root):\n",
    "        return isMirror(root,root)"
   ]
  },
  {
   "cell_type": "markdown",
   "metadata": {},
   "source": [
    "508. [Most Frequent Subtree Sum](https://leetcode.com/problems/most-frequent-subtree-sum/)<br>\n",
    "Given the root of a tree, you are asked to find the most frequent subtree sum. The subtree sum of a node is defined as the sum of all the node values formed by the subtree rooted at that node (including the node itself). So what is the most frequent subtree sum value? If there is a tie, return all the values with the highest frequency in any order."
   ]
  },
  {
   "cell_type": "code",
   "execution_count": 228,
   "metadata": {},
   "outputs": [],
   "source": [
    "def inorder(root):\n",
    "    res = []\n",
    "    if root:\n",
    "        res += inorder(root.left)\n",
    "        res.append(root.data)\n",
    "        res += inorder(root.right)\n",
    "    return res\n",
    "def summation(root):\n",
    "    res = inorder(root)\n",
    "    sum = 0\n",
    "    for i in range(len(res)):\n",
    "        sum += res[i]\n",
    "    return sum\n",
    "def traverse(root):\n",
    "    res = []\n",
    "    if root:\n",
    "        res += traverse(root.left)\n",
    "        res.append(summation(root))\n",
    "        res += traverse(root.right)\n",
    "    return res\n",
    "\n",
    "def findFrequentTreeSum(root):\n",
    "    if root is None:\n",
    "        return None\n",
    "    res = traverse(root)\n",
    "    print(res)\n",
    "    dict1 = {}\n",
    "    for i in range(len(res)):\n",
    "        if res[i] in dict1:\n",
    "            dict1[res[i]] += 1\n",
    "        else:\n",
    "            dict1[res[i]] = 1\n",
    "\n",
    "    sorted_x = sorted(dict1.items(), key=lambda kv: kv[1])\n",
    "    sorted_x.reverse()\n",
    "    ans = []\n",
    "    highest = sorted_x[0][1]\n",
    "    # ans.append(sorted_x[0][0])\n",
    "    for i in sorted_x:\n",
    "        if i[1] == highest:\n",
    "            ans.append(i[0])\n",
    "    # ans = max(dict1.items(), key=operator.itemgetter(1))[0]\n",
    "    # list1 = [ans]\n",
    "    return ans"
   ]
  },
  {
   "cell_type": "code",
   "execution_count": 242,
   "metadata": {},
   "outputs": [],
   "source": [
    "class Solution:\n",
    "    def findFrequentTreeSum(self,root):\n",
    "        self.highest_freq = 0\n",
    "        self.highest_freq_sum = []\n",
    "        self.dict1 = {}\n",
    "\n",
    "        def helper(root):\n",
    "            if root is None:\n",
    "                return 0\n",
    "            else:\n",
    "                left_sum = helper(root.left)\n",
    "                right_sum = helper(root.right)\n",
    "\n",
    "                curr_sum = left_sum + right_sum + root.data\n",
    "\n",
    "                self.dict1[curr_sum] = self.dict1.get(curr_sum,0) + 1\n",
    "\n",
    "                if self.dict1[curr_sum] >= self.highest_freq:\n",
    "                    if self.dict1[curr_sum] > self.highest_freq:\n",
    "                        self.highest_freq = self.dict1[curr_sum]\n",
    "                        self.highest_freq_sum = []\n",
    "                    self.highest_freq_sum.append(curr_sum)\n",
    "                return curr_sum\n",
    "        helper(root)\n",
    "        return self.highest_freq_sum"
   ]
  },
  {
   "cell_type": "code",
   "execution_count": 246,
   "metadata": {},
   "outputs": [
    {
     "data": {
      "text/plain": [
       "[2, -3, 4]"
      ]
     },
     "execution_count": 246,
     "metadata": {},
     "output_type": "execute_result"
    }
   ],
   "source": [
    "lc2 = Node(5)\n",
    "lc2.left = Node(2)\n",
    "lc2.right = Node(-3)\n",
    "Solution().findFrequentTreeSum(lc2)"
   ]
  },
  {
   "cell_type": "markdown",
   "metadata": {},
   "source": [
    "501. [Find Mode in Binary Search Tree](https://leetcode.com/problems/find-mode-in-binary-search-tree/)<br>\n",
    "Given a binary search tree (BST) with duplicates, find all the mode(s) (the most frequently occurred element) in the given BST."
   ]
  },
  {
   "cell_type": "code",
   "execution_count": 258,
   "metadata": {},
   "outputs": [],
   "source": [
    "from collections import Counter\n",
    "def order(root):\n",
    "    if not root:\n",
    "        return []\n",
    "    return [root.data] + order(root.left) + order(root.right)\n",
    "    \n",
    "def findMode1(root):\n",
    "    if not root:\n",
    "        return []\n",
    "    res = order(root)\n",
    "    \n",
    "    c = Counter(res)\n",
    "    mode = c.most_common()[0][1]\n",
    "    \n",
    "    ans = []\n",
    "    for key in c:\n",
    "        if c[key] == mode:\n",
    "            ans.append(key)\n",
    "    return ans"
   ]
  },
  {
   "cell_type": "code",
   "execution_count": 247,
   "metadata": {},
   "outputs": [],
   "source": [
    "def findMode(root):\n",
    "    if root is None:\n",
    "        return None\n",
    "    dict1 = {}\n",
    "    res = inorder(root)\n",
    "    for i in range(len(res)):\n",
    "        if res[i] in dict1:\n",
    "            dict1[res[i]] += 1\n",
    "        else:\n",
    "            dict1[res[i]] = 1\n",
    "\n",
    "    sorted_x = sorted(dict1.items(), key=lambda kv: kv[1])\n",
    "    sorted_x.reverse()\n",
    "    ans = []\n",
    "    highest = sorted_x[0][1]\n",
    "    # ans.append(sorted_x[0][0])\n",
    "    for i in sorted_x:\n",
    "        if i[1] == highest:\n",
    "            ans.append(i[0])\n",
    "    # ans = max(dict1.items(), key=operator.itemgetter(1))[0]\n",
    "    # list1 = [ans]\n",
    "    return ans"
   ]
  },
  {
   "cell_type": "code",
   "execution_count": 259,
   "metadata": {},
   "outputs": [
    {
     "data": {
      "text/plain": [
       "[2]"
      ]
     },
     "execution_count": 259,
     "metadata": {},
     "output_type": "execute_result"
    }
   ],
   "source": [
    "lc3 = Node(1)\n",
    "lc3.right = Node(2)\n",
    "lc3.right.left = Node(2)\n",
    "findMode1(lc3)"
   ]
  },
  {
   "cell_type": "markdown",
   "metadata": {},
   "source": [
    "637. [Average of Levels in Binary Tree](https://leetcode.com/problems/average-of-levels-in-binary-tree/)<br>\n",
    "Given a non-empty binary tree, return the average value of the nodes on each level in the form of an array."
   ]
  },
  {
   "cell_type": "code",
   "execution_count": 282,
   "metadata": {},
   "outputs": [],
   "source": [
    "def average(root,i,res,count):\n",
    "    if not root:\n",
    "        return\n",
    "    if (i < len(res)):\n",
    "        res[i] = (res[i]+root.data)\n",
    "        count[i] = count[i]+1\n",
    "    else:\n",
    "        res.append(root.data)\n",
    "        count.append(1)\n",
    "    average(root.left,i+1,res,count)\n",
    "    average(root.right,i+1,res,count)\n",
    "\n",
    "def averageOfLevels(root):\n",
    "    res,count = [],[]\n",
    "    average(root,0,res,count)\n",
    "    finans = []\n",
    "    for i in range(len(res)):\n",
    "        finans.append(res[i]/count[i])\n",
    "\n",
    "    return finans"
   ]
  },
  {
   "cell_type": "markdown",
   "metadata": {},
   "source": [
    "           3\n",
    "          / \\\n",
    "         9  20\n",
    "            /\\\n",
    "           15 7"
   ]
  },
  {
   "cell_type": "code",
   "execution_count": 285,
   "metadata": {},
   "outputs": [
    {
     "data": {
      "text/plain": [
       "[3.0, 14.5, 11.0]"
      ]
     },
     "execution_count": 285,
     "metadata": {},
     "output_type": "execute_result"
    }
   ],
   "source": [
    "lc4 = Node(3)\n",
    "lc4.left = Node(9)\n",
    "lc4.right = Node(20)\n",
    "lc4.right.left = Node(15)\n",
    "lc4.right.right = Node(7)\n",
    "averageOfLevels(lc4)"
   ]
  },
  {
   "cell_type": "markdown",
   "metadata": {},
   "source": [
    "102. [Binary Tree Level Order Traversal](https://leetcode.com/problems/binary-tree-level-order-traversal/)<br>\n",
    "Given a binary tree, return the level order traversal of its nodes' values. (ie, from left to right, level by level)."
   ]
  },
  {
   "cell_type": "code",
   "execution_count": 297,
   "metadata": {},
   "outputs": [],
   "source": [
    "def levelwisepreorder(root,level,dict1):\n",
    "    if not root:\n",
    "        return \n",
    "    \n",
    "    dict1.setdefault(level,[]).append(root.data)\n",
    "    levelwisepreorder(root.left,level+1,dict1)\n",
    "    levelwisepreorder(root.right,level+1,dict1)\n",
    "    \n",
    "    return dict1\n",
    "def levelOrderlc(root):\n",
    "    if not root:\n",
    "        return []\n",
    "    dict1 = {}\n",
    "    dict1 = levelwisepreorder(root,1,dict1)\n",
    "    finans = []\n",
    "    for key in dict1:\n",
    "        finans.append(dict1[key])\n",
    "    return finans"
   ]
  },
  {
   "cell_type": "code",
   "execution_count": 298,
   "metadata": {},
   "outputs": [
    {
     "data": {
      "text/plain": [
       "[[3], [9, 20], [15, 7]]"
      ]
     },
     "execution_count": 298,
     "metadata": {},
     "output_type": "execute_result"
    }
   ],
   "source": [
    "lc5 = Node(3)\n",
    "lc5.left = Node(9)\n",
    "lc5.right = Node(20)\n",
    "lc5.right.left = Node(15)\n",
    "lc5.right.right = Node(7)\n",
    "levelOrderlc(lc5)"
   ]
  },
  {
   "cell_type": "markdown",
   "metadata": {},
   "source": [
    "104. [Maximum Depth of Binary Tree](https://leetcode.com/problems/maximum-depth-of-binary-tree/submissions/)<br>\n",
    "Given a binary tree, find its maximum depth.\n",
    "\n",
    "The maximum depth is the number of nodes along the longest path from the root node down to the farthest leaf node."
   ]
  },
  {
   "cell_type": "code",
   "execution_count": 300,
   "metadata": {},
   "outputs": [],
   "source": [
    "def maxDepth(root):\n",
    "    if root is None:\n",
    "        return 0\n",
    "    else:\n",
    "        lheight = maxDepth(root.left)\n",
    "        rheight = maxDepth(root.right)\n",
    "\n",
    "        if lheight> rheight:\n",
    "            return lheight+1\n",
    "        else:\n",
    "            return rheight+1"
   ]
  },
  {
   "cell_type": "markdown",
   "metadata": {},
   "source": [
    "226. [Invert Binary Tree](https://leetcode.com/problems/invert-binary-tree/)"
   ]
  },
  {
   "cell_type": "code",
   "execution_count": 315,
   "metadata": {},
   "outputs": [],
   "source": [
    "def invert(root):\n",
    "    if root:\n",
    "        invert(root.left)\n",
    "        invert(root.right)\n",
    "        temp = root.left\n",
    "        root.left = root.right\n",
    "        root.right = temp\n",
    "    return root"
   ]
  },
  {
   "cell_type": "code",
   "execution_count": 316,
   "metadata": {},
   "outputs": [
    {
     "data": {
      "text/plain": [
       "[7, 20, 15, 3, 9]"
      ]
     },
     "execution_count": 316,
     "metadata": {},
     "output_type": "execute_result"
    }
   ],
   "source": [
    "inorder(invert(lc5))"
   ]
  },
  {
   "cell_type": "markdown",
   "metadata": {},
   "source": [
    "513. [Find Bottom Left Tree Value](https://leetcode.com/problems/find-bottom-left-tree-value/)<br>\n",
    "working level order code"
   ]
  },
  {
   "cell_type": "markdown",
   "metadata": {},
   "source": [
    "99. [Recover Binary Search Tree](https://leetcode.com/problems/recover-binary-search-tree/)<br>\n",
    "Two elements of a binary search tree (BST) are swapped by mistake.<br>\n",
    "Recover the tree without changing its structure."
   ]
  },
  {
   "cell_type": "code",
   "execution_count": 38,
   "metadata": {},
   "outputs": [],
   "source": [
    "def inorderlc99(root):\n",
    "    if not root:\n",
    "        return []\n",
    "    return inorderlc99(root.left)+[root]+inorderlc99(root.right)\n",
    "\n",
    "def recoverTree(root):\n",
    "    \"\"\"\n",
    "    Do not return anything, modify root in-place instead.\n",
    "    \"\"\"\n",
    "    resnode = inorderlc99(root)\n",
    "    res = []\n",
    "    for i in range(len(resnode)):\n",
    "        res.append(resnode[i].val)\n",
    "    temp = res[:]\n",
    "    temp.sort()\n",
    "    idx = []\n",
    "    for i in range(len(res)):\n",
    "        if(res[i]-temp[i] != 0):\n",
    "            idx.append(i)\n",
    "    resnode[idx[0]].val,resnode[idx[1]].val = resnode[idx[1]].val,resnode[idx[0]].val"
   ]
  },
  {
   "cell_type": "markdown",
   "metadata": {},
   "source": [
    "110. [Balanced Binary Tree](https://leetcode.com/problems/balanced-binary-tree/)<br>\n",
    "Given a binary tree, determine if it is height-balanced.<br>\n",
    "For this problem, a height-balanced binary tree is defined as:<br>\n",
    "a binary tree in which the left and right subtrees of every node differ in height by no more than 1."
   ]
  },
  {
   "cell_type": "code",
   "execution_count": 107,
   "metadata": {},
   "outputs": [],
   "source": [
    "def maxdepth110(root):\n",
    "    if root is None:\n",
    "        return 0\n",
    "    left = maxdepth110(root.left)\n",
    "    right = maxdepth110(root.right)\n",
    "    return (max(left,right) + 1)\n",
    "\n",
    "def isBalanced(root):\n",
    "    if (root == None):\n",
    "        return True\n",
    "    else:\n",
    "        return(isBalanced(root.left) and isBalanced(root.right) and abs(maxdepth110(root.left)-maxdepth110(root.right)) <=1)"
   ]
  },
  {
   "cell_type": "markdown",
   "metadata": {},
   "source": [
    "297. [Serialize and Deserialize Binary Tree](https://leetcode.com/problems/serialize-and-deserialize-binary-tree/)"
   ]
  },
  {
   "cell_type": "code",
   "execution_count": 253,
   "metadata": {},
   "outputs": [],
   "source": [
    "def seralize(root):\n",
    "    if root is None:\n",
    "        return \"x \"\n",
    "    return str(root.data)+\" \"+seralize(root.left)+seralize(root.right)"
   ]
  },
  {
   "cell_type": "code",
   "execution_count": 254,
   "metadata": {},
   "outputs": [],
   "source": [
    "def deseralizeh(queue):\n",
    "    val = queue.pop(0)\n",
    "    if val == \"x\":\n",
    "        return None\n",
    "    node = Node(int(val))\n",
    "    node.left = deseralizeh(queue)\n",
    "    node.right = deseralizeh(queue)\n",
    "    \n",
    "    return node\n",
    "\n",
    "def deseralize(serstr):\n",
    "    queue = serstr.split(\" \")\n",
    "    return deseralizeh(queue)"
   ]
  },
  {
   "cell_type": "code",
   "execution_count": 255,
   "metadata": {},
   "outputs": [],
   "source": [
    "tree2 = Node(1)\n",
    "tree2.left = Node(2)\n",
    "tree2.right = Node(3)\n",
    "tree2.left.left = Node(4)\n",
    "tree2.left.right = Node(5)"
   ]
  },
  {
   "cell_type": "code",
   "execution_count": 256,
   "metadata": {},
   "outputs": [],
   "source": [
    "testtree = deseralize(seralize(tree2))"
   ]
  },
  {
   "cell_type": "code",
   "execution_count": null,
   "metadata": {},
   "outputs": [],
   "source": []
  }
 ],
 "metadata": {
  "kernelspec": {
   "display_name": "Python 3",
   "language": "python",
   "name": "python3"
  },
  "language_info": {
   "codemirror_mode": {
    "name": "ipython",
    "version": 3
   },
   "file_extension": ".py",
   "mimetype": "text/x-python",
   "name": "python",
   "nbconvert_exporter": "python",
   "pygments_lexer": "ipython3",
   "version": "3.7.4"
  }
 },
 "nbformat": 4,
 "nbformat_minor": 2
}
